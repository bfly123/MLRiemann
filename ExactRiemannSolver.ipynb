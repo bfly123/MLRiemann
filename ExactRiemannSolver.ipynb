{
 "cells": [
  {
   "cell_type": "markdown",
   "metadata": {},
   "source": [
    "# An Exact Riemann solver for 1D Euler equation"
   ]
  },
  {
   "cell_type": "code",
   "execution_count": 11,
   "metadata": {},
   "outputs": [
    {
     "data": {
      "text/plain": [
       "0.07071067811865475"
      ]
     },
     "execution_count": 11,
     "metadata": {},
     "output_type": "execute_result"
    }
   ],
   "source": [
    "√0.005"
   ]
  },
  {
   "cell_type": "markdown",
   "metadata": {},
   "source": [
    "## Governing Equation\n",
    "The governing equation for the Riemann problem is the Euler equations\n",
    "\n",
    "$$ \\mathbf{U}_t+\\mathbf{F}(\\mathbf{U})_x = 0$$\n",
    "\n",
    "where \n",
    "\n",
    "$$\\mathbf{U} = \\left[ \\begin{align}\n",
    "\\rho\\\\\n",
    "\\rho u\\\\ \n",
    "E\\\\ \n",
    "\\end{align} \n",
    "\\right]\n",
    "$$, $$\n",
    "\\mathbf{F} = \\left[ \\begin{align}\n",
    "\\rho u\\\\ \\rho u^2+p\\\\ u(E+p)\\\\ \n",
    "\\end{align} \\right] $$\n",
    "\n",
    "with initial conditions of\n",
    "\n",
    "$$ \\mathbf{U}(x,0) = \\mathbf{U}^{(0)}(x)\n",
    "= \\left\\{ \\begin{align} \n",
    "\\mathbf{U}_L,\\quad \\text{if} \\quad x<0, \\\\\n",
    "\\mathbf{U}_R,\\quad \\text{if} \\quad x>0, \\\\\n",
    "\\end{align} \\right.\n",
    "$$\n",
    "\n",
    "And the EOS is\n",
    "\n",
    "$$ e = \\frac{p}{(\\gamma-1)\\rho}$$.\n"
   ]
  },
  {
   "cell_type": "code",
   "execution_count": null,
   "metadata": {},
   "outputs": [],
   "source": []
  },
  {
   "cell_type": "code",
   "execution_count": 12,
   "metadata": {},
   "outputs": [],
   "source": [
    "struct W\n",
    "    ρ::Float64\n",
    "    u::Float64\n",
    "    p::Float64\n",
    "end"
   ]
  },
  {
   "cell_type": "markdown",
   "metadata": {},
   "source": [
    "## Solving method\n",
    "\n",
    "In the Star region, we establish a function of the pressure $p^*$ with the velocity $u^*$ on left and right sepratively.\n",
    "### Left function \n",
    "$$f_L(p, \\mathbf{W}_L) = \\left\\{ \\begin{align} \n",
    "(p-p_L)\\left[\\frac{A_L}{p+B_L}\\right]^{1/2} \\quad \\text{if} \\quad p>p_L \\quad \\text(shock),\\\\\n",
    "\\frac{2a_L}{\\gamma -1} \\left[ \\left(\\frac{p}{p_L}\\right)^{\\frac{\\gamma-1}{2\\gamma}} -1\\right] \\quad \\text{if} \\quad p\\le p_L \\quad \\text{(rarefaction)}\n",
    "\\end{align} \\right.\n",
    "$$\n",
    "and the data-dependent constants $A_L, B_L, A_R,B_R$ are given by\n",
    "$$ \\left. \\begin{array}{ll}\n",
    "      A_L = \\frac{2}{(\\gamma+1)\\rho_L},& B_L = \\frac{(\\gamma -1)}{(\\gamma +1)}p_L,\\\\\n",
    "      A_R = \\frac{2}{(\\gamma+1)\\rho_R},& B_R = \\frac{(\\gamma -1)}{(\\gamma +1)}p_R,\\\\\n",
    "      \\end{array}\\right\\} $$"
   ]
  },
  {
   "cell_type": "code",
   "execution_count": 13,
   "metadata": {},
   "outputs": [
    {
     "data": {
      "text/plain": [
       "f (generic function with 1 method)"
      ]
     },
     "execution_count": 13,
     "metadata": {},
     "output_type": "execute_result"
    }
   ],
   "source": [
    "function f(p::Float64,W₀::W,γ::Float64)\n",
    "    ρ₀,u₀,p₀ = W₀.ρ,W₀.u,W₀.p\n",
    "    \n",
    "    A = 2/((γ +1 )*ρ₀)\n",
    "    B = (γ-1)/(γ+1)*p₀\n",
    "    \n",
    "    if p>p₀ \n",
    "        return (p-p₀)*√(A/(p+B))\n",
    "    else\n",
    "        a₀ = √(γ*p₀/ρ₀)\n",
    "        return 2a₀/(γ-1)*((p/p₀)^((γ-1)/2/γ) -1)\n",
    "    end\n",
    "end    "
   ]
  },
  {
   "cell_type": "markdown",
   "metadata": {},
   "source": [
    "$$\\rho_L^* = \\rho_L(p^*/p_L)^{1/\\gamma}$$\n",
    "$$u^* = u_L -f_L(p^*,W_L)$$\n",
    "\n",
    "$$\\rho_R^* = \\rho_R(p^*/p_R)^{1/\\gamma}$$\n",
    "$$u^* = u_R +f_R(p^*,W_R)$$"
   ]
  },
  {
   "cell_type": "code",
   "execution_count": 14,
   "metadata": {},
   "outputs": [
    {
     "data": {
      "text/plain": [
       "ρₚ (generic function with 1 method)"
      ]
     },
     "execution_count": 14,
     "metadata": {},
     "output_type": "execute_result"
    }
   ],
   "source": [
    "function ρₚ(p::Float64,W₀::W,γ::Float64)\n",
    "    if p < W₀.p\n",
    "       return W₀.ρ*(p/W₀.p)^(1/γ)\n",
    "    else \n",
    "        return W₀.ρ*((γ-1)/(γ+1)+p/W₀.p)/((γ-1)/(γ+1)*p/W₀.p+1)\n",
    "    end\n",
    "end"
   ]
  },
  {
   "cell_type": "code",
   "execution_count": 15,
   "metadata": {},
   "outputs": [
    {
     "data": {
      "text/plain": [
       "Derivative (generic function with 1 method)"
      ]
     },
     "execution_count": 15,
     "metadata": {},
     "output_type": "execute_result"
    }
   ],
   "source": [
    "function Derivative(f::Function,x::Float64)\n",
    "    ϵ₀ = 1e-10\n",
    "    if abs(x) >= ϵ₀\n",
    "        ϵ= ϵ₀*x\n",
    "    else\n",
    "        ϵ =ϵ₀\n",
    "    end\n",
    "    f¹(x) = (f(x+ϵ)-f(x))/ϵ\n",
    "    return f¹(x)\n",
    "end"
   ]
  },
  {
   "cell_type": "code",
   "execution_count": 16,
   "metadata": {},
   "outputs": [
    {
     "data": {
      "text/plain": [
       "F¹ (generic function with 1 method)"
      ]
     },
     "execution_count": 16,
     "metadata": {},
     "output_type": "execute_result"
    }
   ],
   "source": [
    "    fₗ(p) = f(p,Wₗ,γ)\n",
    "    fᵣ(p) = f(p,Wᵣ,γ)\n",
    "    F(p) = fₗ(p) + fᵣ(p)+Wᵣ.u-Wₗ.u\n",
    "    F¹(p) = Derivative(p->F(p),p)"
   ]
  },
  {
   "cell_type": "markdown",
   "metadata": {},
   "source": [
    "## Newton iteration \n",
    "\n",
    "We use the Newton iteration method to solve\n",
    "$$f_L(p) +f_R(p)+ u_R-u_L = 0$$"
   ]
  },
  {
   "cell_type": "code",
   "execution_count": 34,
   "metadata": {},
   "outputs": [
    {
     "data": {
      "text/plain": [
       "RiemannSolver (generic function with 1 method)"
      ]
     },
     "execution_count": 34,
     "metadata": {},
     "output_type": "execute_result"
    }
   ],
   "source": [
    "function RiemannSolver(Wₗ::W,Wᵣ::W,γ::Float64)    \n",
    "   #     γ = 1.4\n",
    "     p = (Wₗ.p + Wᵣ.p)/2\n",
    "     TOL = 1.0e-4\n",
    "   #  i = 1\n",
    "    \n",
    "    ϵ = 1.0e-8\n",
    "    \n",
    "    WₗStar = W(ϵ,0,ϵ)\n",
    "    WᵣStar = W(ϵ,0,ϵ)\n",
    "    \n",
    "     aₗ = √(γ*Wₗ.p/Wₗ.ρ) \n",
    "     aᵣ = √(γ*Wᵣ.p/Wᵣ.ρ) \n",
    "     cri = aₗ/(γ-1) + aᵣ/(γ-1) +Wₗ.u-Wᵣ.u\n",
    "    \n",
    "    if cri >0\n",
    "        while true \n",
    "            F₁ = F(p)\n",
    "             p1 = p- F₁/F¹(p)\n",
    "             if max(abs(F₁),2*abs(p1-p)/(p1+p)) < TOL\n",
    "                break\n",
    "            end \n",
    "        #    i += 1\n",
    "            p=max(p1,TOL)\n",
    "         #   @show p,F₁  \n",
    "        end\n",
    "\n",
    "        pStar = p\n",
    "        uStar = Wₗ.u-fₗ(p)\n",
    "        ρₗStar = ρₚ(p,Wₗ,γ)\n",
    "        ρᵣStar = ρₚ(p,Wᵣ,γ)\n",
    "        WₗStar = W(ρₗStar,uStar,pStar)\n",
    "        WᵣStar = W(ρᵣStar,uStar,pStar)\n",
    "    end\n",
    "    \n",
    "    return WₗStar,WᵣStar\n",
    "end"
   ]
  },
  {
   "cell_type": "markdown",
   "metadata": {},
   "source": [
    "### A complete result\n",
    "After Solving the states in the star regions, if we want to get a detailed ditribution, we can use the following function.\n"
   ]
  },
  {
   "cell_type": "code",
   "execution_count": 22,
   "metadata": {},
   "outputs": [
    {
     "data": {
      "text/plain": [
       "SolveDistr (generic function with 1 method)"
      ]
     },
     "execution_count": 22,
     "metadata": {},
     "output_type": "execute_result"
    }
   ],
   "source": [
    "function SolveDistr(t::Float64,Wₗ::W,Wᵣ::W,γ::Float64)\n",
    "    \n",
    "    WₗStar,WᵣStar = RiemannSolver(Wₗ,Wᵣ,γ)\n",
    "    \n",
    "    ρₗStar,uStar, pStar =WₗStar.ρ,WₗStar.u,WₗStar.p\n",
    "    ρᵣStar = WᵣStar.ρ\n",
    "    ρₗ,pₗ,uₗ = Wₗ.ρ,Wₗ.p,Wₗ.u\n",
    "    ρᵣ,pᵣ,uᵣ = Wᵣ.ρ,Wᵣ.p,Wᵣ.u\n",
    "    \n",
    "    I = 1200\n",
    "    U = zeros(Float64,(I,3))\n",
    "    x = zeros(Float64,I)\n",
    "    if pStar > pₗ  # Left shock\n",
    "        sL = (ρₗStar*uStar - ρₗ*uₗ)/(ρₗStar-ρₗ)\n",
    "        for i =1:200\n",
    "            x[i] = (2-0.005*(i-1))*sL*t\n",
    "            U[i,:] = [ρₗ,uₗ,pₗ]\n",
    "        end\n",
    "        for i = 201:600\n",
    "            x[i] = ((uStar-sL)/400*(i-200) + sL)*t\n",
    "            U[i,:] = [ρₗStar,uStar,pStar]\n",
    "        end\n",
    "    else  # Left Rarefaction\n",
    "        cL = √(γ*pₗ/ρₗ)\n",
    "        cLStar = √(γ*pStar/ρₗStar)\n",
    "        sLSlow = uₗ - cL\n",
    "        sLFast = uStar - cLStar\n",
    "        for i = 1:200\n",
    "            x[i] =(2-0.005*(i-1))*sLSlow*t\n",
    "            U[i,:] = [ρₗ,uₗ,pₗ]\n",
    "        end\n",
    "        \n",
    "        x[201:400],U[201:400,:] = RareSpeedToU(t,Wₗ,pStar,γ,1)\n",
    "        for i =401:600\n",
    "            x[i] = ((uStar - sLFast)/200*(i-400) + sLFast)*t \n",
    "            U[i,:] = [ρₗStar,uStar,pStar]\n",
    "        end \n",
    "    end\n",
    "    \n",
    "    if pStar > pᵣ  # Right shock\n",
    "        sR = (ρᵣStar*uStar - ρᵣ*uᵣ)/(ρᵣStar-ρᵣ)\n",
    "      #  @show ρᵣStar, ρᵣ\n",
    "        for i =601:1000\n",
    "            x[i] = ((-uStar+sR)/400*(i-600) + uStar)*t\n",
    "            U[i,:] = [ρᵣStar,uStar,pStar]\n",
    "        end\n",
    "        for i = 1001:1200\n",
    "            x[i] = (1+0.005*(i-1001))*sR*t\n",
    "            U[i,:] = [ρᵣ,uᵣ,pᵣ]\n",
    "        end\n",
    "    else  # Right Rarefaction\n",
    "        cR = √(γ*pᵣ/ρᵣ)\n",
    "        cRStar = √(γ*pStar/ρᵣStar)\n",
    "        sRFast = uᵣ + cR\n",
    "        sRSlow = uStar + cRStar\n",
    "        \n",
    "        for i = 1000:1200\n",
    "           x[i] =(1+0.005*(i-1001))*sRFast*t\n",
    "            U[i,:] = [ρᵣ,uᵣ,pᵣ]\n",
    "        end\n",
    "        \n",
    "        x[801:1000],U[801:1000,:] = RareSpeedToU(t,Wᵣ,pStar,γ,2)\n",
    "        for i =601:800\n",
    "             x[i] = ((-uStar + sRSlow)/200*(i-600) + uStar)*t \n",
    "             U[i,:] = [ρᵣStar,uStar,pStar]\n",
    "        end \n",
    "    end\n",
    "    return x, U\n",
    "end"
   ]
  },
  {
   "cell_type": "code",
   "execution_count": 23,
   "metadata": {},
   "outputs": [
    {
     "data": {
      "text/plain": [
       "RareSpeedToU (generic function with 1 method)"
      ]
     },
     "execution_count": 23,
     "metadata": {},
     "output_type": "execute_result"
    }
   ],
   "source": [
    "function RareSpeedToU(t::Float64, W₀::W, p::Float64,γ::Float64,LoR::Int)\n",
    "    ρ₀,u₀,p₀ = W₀.ρ, W₀.u,W₀.p\n",
    "    \n",
    "    x = zeros(Float64,200)\n",
    "    U = zeros(Float64,(200,3))\n",
    "    \n",
    "    Δp = (p-p₀)/200\n",
    "    \n",
    "    for i in 1:200\n",
    "        p = p₀ + Δp*(i-1)\n",
    "        ρ = ρₚ(p, W₀, γ)\n",
    "        c= √(γ*p/ρ)\n",
    "        f₀ = f(p, W₀, γ)\n",
    "        if LoR == 1\n",
    "            u = u₀-f₀\n",
    "            uc = u-c\n",
    "        x[i] = uc*t\n",
    "        U[i,1:3] = [ρ,u,p]\n",
    "        else\n",
    "            u = u₀+f₀\n",
    "            uc = u+c\n",
    "        x[200-i+1] = uc*t\n",
    "        U[200-i+1,1:3] = [ρ,u,p]\n",
    "        end\n",
    "        \n",
    "    end\n",
    "    return x, U            \n",
    "end"
   ]
  },
  {
   "cell_type": "code",
   "execution_count": 35,
   "metadata": {},
   "outputs": [
    {
     "data": {
      "text/plain": [
       "([-0.236643, -0.236052, -0.23546, -0.234868, -0.234277, -0.233685, -0.233094, -0.232502, -0.23191, -0.231319  …  0.179581, 0.180041, 0.180502, 0.180962, 0.181423, 0.181883, 0.182344, 0.182804, 0.183264, 0.183725], [1.0 0.0 1.0; 1.0 0.0 1.0; … ; 0.125 -2.0 0.1; 0.125 -2.0 0.1])"
      ]
     },
     "execution_count": 35,
     "metadata": {},
     "output_type": "execute_result"
    }
   ],
   "source": [
    "Wₗ = W(1.0,0.0,1.0)\n",
    "Wᵣ = W(0.125,-2.0,0.1)\n",
    "γ = 1.4\n",
    "#RiemannSolver(Wₗ,Wᵣ,γ)\n",
    "x,U = SolveDistr(0.1,Wₗ,Wᵣ,γ)"
   ]
  },
  {
   "cell_type": "code",
   "execution_count": 21,
   "metadata": {},
   "outputs": [
    {
     "data": {
      "text/plain": [
       "Plots.PyPlotBackend()"
      ]
     },
     "execution_count": 21,
     "metadata": {},
     "output_type": "execute_result"
    }
   ],
   "source": [
    "using Plots\n",
    "using LaTeXStrings\n",
    "pyplot()"
   ]
  },
  {
   "cell_type": "code",
   "execution_count": 36,
   "metadata": {},
   "outputs": [
    {
     "data": {
      "image/png": "[encoded data removed]"
     },
     "execution_count": 36,
     "metadata": {},
     "output_type": "execute_result"
    }
   ],
   "source": [
    "p1 = plot(x,U[:,1], xlabel = \"x\", ylabel=L\" \\rho\",width =2 ,label = \"Exact\",color =\"black\")\n",
    "p2 = plot(x,U[:,2], xlabel = \"x\", ylabel=L\" u\",width =2 ,label = \"Exact\",color =\"black\")\n",
    "p3 = plot(x,U[:,3], xlabel = \"x\", ylabel=L\" p\",width =2 ,label = \"Exact\",color =\"black\")\n",
    "l=@layout [a [b;c]]\n",
    "p = plot(p1,p2,p3,layout=l)"
   ]
  },
  {
   "cell_type": "code",
   "execution_count": 30,
   "metadata": {},
   "outputs": [
    {
     "data": {
      "text/plain": [
       "([-0.236643, -0.236052, -0.23546, -0.234868, -0.234277, -0.233685, -0.233094, -0.232502, -0.23191, -0.231319  …  0.179581, 0.180041, 0.180502, 0.180962, 0.181423, 0.181883, 0.182344, 0.182804, 0.183264, 0.183725], [10.0 0.0 10.0; 10.0 0.0 10.0; … ; 1.25 -2.0 1.0; 1.25 -2.0 1.0])"
      ]
     },
     "execution_count": 30,
     "metadata": {},
     "output_type": "execute_result"
    }
   ],
   "source": [
    "Wₗ = W(10.0,0.0,10.0)\n",
    "Wᵣ = W(1.25,-2.0,1)\n",
    "γ = 1.4\n",
    "#RiemannSolver(Wₗ,Wᵣ,γ)\n",
    "x,U = SolveDistr(0.1,Wₗ,Wᵣ,γ)"
   ]
  },
  {
   "cell_type": "code",
   "execution_count": 31,
   "metadata": {},
   "outputs": [
    {
     "data": {
      "image/png": "[encoded data removed]"
     },
     "execution_count": 31,
     "metadata": {},
     "output_type": "execute_result"
    }
   ],
   "source": [
    "p1 = plot(x,U[:,1], xlabel = \"x\", ylabel=L\" \\rho\",width =2 ,label = \"Exact\",color =\"black\")\n",
    "p2 = plot(x,U[:,2], xlabel = \"x\", ylabel=L\" u\",width =2 ,label = \"Exact\",color =\"black\")\n",
    "p3 = plot(x,U[:,3], xlabel = \"x\", ylabel=L\" p\",width =2 ,label = \"Exact\",color =\"black\")\n",
    "l=@layout [a [b;c]]\n",
    "p = plot(p1,p2,p3,layout=l)"
   ]
  },
  {
   "cell_type": "code",
   "execution_count": 13,
   "metadata": {},
   "outputs": [
    {
     "data": {
      "text/plain": [
       "([-7.48331, -7.46461, -7.4459, -7.42719, -7.40848, -7.38977, -7.37107, -7.35236, -7.33365, -7.31494  …  4.58593, 4.59769, 4.60945, 4.62121, 4.63297, 4.64473, 4.65649, 4.66825, 4.68, 4.69176], [1.0 0.0 1000.0; 1.0 0.0 1000.0; … ; 1.0 0.0 0.01; 1.0 0.0 0.01])"
      ]
     },
     "execution_count": 13,
     "metadata": {},
     "output_type": "execute_result"
    }
   ],
   "source": [
    "Wₗ = W(1.0,0.0,1000)\n",
    "Wᵣ = W(1.0,0.0,0.01)\n",
    "γ = 1.4\n",
    "#RiemannSolver(Wₗ,Wᵣ,γ)\n",
    "x,U = SolveDistr(0.1,Wₗ,Wᵣ,γ)"
   ]
  },
  {
   "cell_type": "code",
   "execution_count": 14,
   "metadata": {},
   "outputs": [
    {
     "data": {
      "image/png": "[encoded data removed]"
     },
     "execution_count": 14,
     "metadata": {},
     "output_type": "execute_result"
    }
   ],
   "source": [
    "p1 = plot(x,U[:,1], xlabel = \"x\", ylabel=L\" \\rho\",width =2 ,label = \"Exact\",color =\"black\")\n",
    "p2 = plot(x,U[:,2], xlabel = \"x\", ylabel=L\" u\",width =2 ,label = \"Exact\",color =\"black\")\n",
    "p3 = plot(x,U[:,3], xlabel = \"x\", ylabel=L\" p\",width =2 ,label = \"Exact\",color =\"black\")\n",
    "l=@layout [a [b;c]]\n",
    "p = plot(p1,p2,p3,layout=l)"
   ]
  },
  {
   "cell_type": "code",
   "execution_count": 15,
   "metadata": {},
   "outputs": [
    {
     "data": {
      "text/plain": [
       "([-1.48749, -1.48377, -1.48006, -1.47634, -1.47262, -1.4689, -1.46518, -1.46146, -1.45774, -1.45402  …  2.30727, 2.31319, 2.3191, 2.32502, 2.33094, 2.33685, 2.34277, 2.34868, 2.3546, 2.36052], [1.0 0.0 0.01; 1.0 0.0 0.01; … ; 1.0 0.0 100.0; 1.0 0.0 100.0])"
      ]
     },
     "execution_count": 15,
     "metadata": {},
     "output_type": "execute_result"
    }
   ],
   "source": [
    "Wₗ = W(1.0,0.0,0.01)\n",
    "Wᵣ = W(1.0,0.0,100)\n",
    "γ = 1.4\n",
    "#RiemannSolver(Wₗ,Wᵣ,γ)\n",
    "x,U = SolveDistr(0.1,Wₗ,Wᵣ,γ)"
   ]
  },
  {
   "cell_type": "code",
   "execution_count": 15,
   "metadata": {
    "scrolled": true
   },
   "outputs": [
    {
     "data": {
      "image/png": "[encoded data removed]"
     },
     "execution_count": 15,
     "metadata": {},
     "output_type": "execute_result"
    }
   ],
   "source": [
    "p1 = plot(x,U[:,1], xlabel = \"x\", ylabel=L\" \\rho\",width =2 ,label = \"Exact\",color =\"black\")\n",
    "p2 = plot(x,U[:,2], xlabel = \"x\", ylabel=L\" u\",width =2 ,label = \"Exact\",color =\"black\")\n",
    "p3 = plot(x,U[:,3], xlabel = \"x\", ylabel=L\" p\",width =2 ,label = \"Exact\",color =\"black\")\n",
    "l=@layout [a [b;c]]\n",
    "p = plot(p1,p2,p3,layout=l)"
   ]
  },
  {
   "cell_type": "code",
   "execution_count": 1,
   "metadata": {},
   "outputs": [
    {
     "ename": "UndefVarError",
     "evalue": "UndefVarError: W not defined",
     "output_type": "error",
     "traceback": [
      "UndefVarError: W not defined",
      "",
      "Stacktrace:",
      " [1] top-level scope at In[1]:1"
     ]
    }
   ],
   "source": [
    "Wₗ = W(1.0,0.0,0.01)\n",
    "Wᵣ = W(1.0,1.0,0.01)\n",
    "γ = 1.4\n",
    "#RiemannSolver(Wₗ,Wᵣ,γ)\n",
    "x,U = SolveDistr(0.1,Wₗ,Wᵣ,γ)"
   ]
  },
  {
   "cell_type": "code",
   "execution_count": 16,
   "metadata": {},
   "outputs": [
    {
     "data": {
      "image/png": "[encoded data removed]"
     },
     "execution_count": 16,
     "metadata": {},
     "output_type": "execute_result"
    }
   ],
   "source": [
    "p1 = plot(x,U[:,1], xlabel = \"x\", ylabel=L\" \\rho\",width =2 ,label = \"Exact\",color =\"black\")\n",
    "p2 = plot(x,U[:,2], xlabel = \"x\", ylabel=L\" u\",width =2 ,label = \"Exact\",color =\"black\")\n",
    "p3 = plot(x,U[:,3], xlabel = \"x\", ylabel=L\" p\",width =2 ,label = \"Exact\",color =\"black\")\n",
    "l=@layout [a [b;c]]\n",
    "p = plot(p1,p2,p3,layout=l)"
   ]
  },
  {
   "cell_type": "markdown",
   "metadata": {},
   "source": [
    "# 制作样本集"
   ]
  },
  {
   "cell_type": "code",
   "execution_count": 9,
   "metadata": {},
   "outputs": [
    {
     "data": {
      "text/plain": [
       "10-element Array{Float64,1}:\n",
       " 13.378849708979384 \n",
       " 39.87237466432659  \n",
       " 37.95860718829306  \n",
       "  0.9150661293637256\n",
       " 73.34257660650701  \n",
       "  6.742774996601847 \n",
       " 13.388342335811625 \n",
       "  0.7873050722497447\n",
       "  0.1005998337776472\n",
       "  0.5419293260268657"
      ]
     },
     "execution_count": 9,
     "metadata": {},
     "output_type": "execute_result"
    }
   ],
   "source": [
    "pL = 10 .^ (rand(10) .*5 .- 2)   #  0.01 -> 1000\n",
    "ρR = 10 .^ (rand(10) .*4 .- 2)   # 0.01 -> 10\n",
    "uR = rand(10) .* 22 .- 20        # -20 -> 3\n",
    "pR = 10 .^ (rand(10) .*5 .- 2)   "
   ]
  },
  {
   "cell_type": "code",
   "execution_count": 396,
   "metadata": {},
   "outputs": [],
   "source": [
    "N = 10^3\n",
    "\n",
    "X = zeros(Float32, (4,N))\n",
    "X = zeros(Float32, (4,N))\n",
    "for i in 1:N    \n",
    "    pL = 10 .^ (rand() .*5 .- 2)   #  0.01 -> 1000\n",
    "    ρR = 10 .^ (rand() .*4 .- 2)   # 0.01 -> 10\n",
    "    uR = rand() .* 22 .- 20        # -20 -> 3\n",
    "    pR = 10 .^ (rand() .*5 .- 2)   \n",
    "    X[1:4,i ] = [pL,ρR,uR,pR]\n",
    "end"
   ]
  },
  {
   "cell_type": "code",
   "execution_count": 397,
   "metadata": {},
   "outputs": [],
   "source": [
    "using BenchmarkTools"
   ]
  },
  {
   "cell_type": "code",
   "execution_count": 399,
   "metadata": {},
   "outputs": [],
   "source": [
    "#function \n",
    "Y = zeros(Float32, (4,N))\n",
    "γ = 1.4\n",
    "Wₗ = W(1.0,1.0,1.0)\n",
    "Wᵣ = W(1.0,1.0,1.0)\n",
    "for i = 1:N\n",
    "#i = 1\n",
    "    Wₗ = W(1.0,0.0,X[1,i])\n",
    "    Wᵣ = W(X[2,i],X[3,i],X[4,i])\n",
    "    WₗStar,WᵣStar = RiemannSolver(Wₗ,Wᵣ,γ)\n",
    "    Y[1,i] = WₗStar.ρ\n",
    "    Y[2,i] = WᵣStar.ρ\n",
    "    Y[3,i] =WₗStar.u\n",
    "    Y[4,i] =WₗStar.p\n",
    "end"
   ]
  },
  {
   "cell_type": "code",
   "execution_count": null,
   "metadata": {},
   "outputs": [],
   "source": []
  },
  {
   "cell_type": "code",
   "execution_count": 11,
   "metadata": {},
   "outputs": [],
   "source": [
    "using BSON:@save,@load"
   ]
  },
  {
   "cell_type": "code",
   "execution_count": 12,
   "metadata": {},
   "outputs": [
    {
     "name": "stderr",
     "output_type": "stream",
     "text": [
      "┌ Warning: Error requiring CuArrays from Flux:\n",
      "│ LoadError: LoadError: CUDA error: invalid device context (code #201, ERROR_INVALID_CONTEXT)\n",
      "│ Stacktrace:\n",
      "│  [1] macro expansion at /home/bfly/.juliapro/JuliaPro_v1.1.1.1/packages/CUDAdrv/lu32K/src/base.jl:147 [inlined]\n",
      "│  [2] #alloc#3(::CUDAdrv.Mem.CUmem_attach, ::Function, ::Int64, ::Bool) at /home/bfly/.juliapro/JuliaPro_v1.1.1.1/packages/CUDAdrv/lu32K/src/memory.jl:161\n",
      "│  [3] macro expansion at /home/bfly/.juliapro/JuliaPro_v1.1.1.1/packages/CUDAdrv/lu32K/src/memory.jl:157 [inlined]\n",
      "│  [4] try_cuda_alloc(::Int64) at /home/bfly/.juliapro/JuliaPro_v1.1.1.1/packages/CuArrays/qZCAt/src/memory.jl:243\n",
      "│  [5] macro expansion at /home/bfly/.juliapro/JuliaPro_v1.1.1.1/packages/CuArrays/qZCAt/src/memory.jl:302 [inlined]\n",
      "│  [6] macro expansion at /home/bfly/.juliapro/JuliaPro_v1.1.1.1/packages/TimerOutputs/7zSea/src/TimerOutput.jl:216 [inlined]\n",
      "│  [7] try_alloc(::Int64, ::Int64) at /home/bfly/.juliapro/JuliaPro_v1.1.1.1/packages/CuArrays/qZCAt/src/memory.jl:301\n",
      "│  [8] macro expansion at /home/bfly/.juliapro/JuliaPro_v1.1.1.1/packages/TimerOutputs/7zSea/src/TimerOutput.jl:216 [inlined]\n",
      "│  [9] (::getfield(CuArrays, Symbol(\"##15#16\")))() at /home/bfly/.juliapro/JuliaPro_v1.1.1.1/packages/CuArrays/qZCAt/src/memory.jl:369\n",
      "│  [10] lock(::getfield(CuArrays, Symbol(\"##15#16\")), ::ReentrantLock) at ./lock.jl:101\n",
      "│  [11] macro expansion at /home/bfly/.juliapro/JuliaPro_v1.1.1.1/packages/CuArrays/qZCAt/src/memory.jl:368 [inlined]\n",
      "│  [12] macro expansion at ./util.jl:213 [inlined]\n",
      "│  [13] alloc(::Int64) at /home/bfly/.juliapro/JuliaPro_v1.1.1.1/packages/CuArrays/qZCAt/src/memory.jl:358\n",
      "│  [14] CuArrays.CuArray{UInt8,1}(::UndefInitializer, ::Tuple{Int64}) at /home/bfly/.juliapro/JuliaPro_v1.1.1.1/packages/CuArrays/qZCAt/src/array.jl:38\n",
      "│  [15] CuArrays.CuArray{UInt8,1}(::UndefInitializer, ::Int64) at /home/bfly/.juliapro/JuliaPro_v1.1.1.1/packages/CuArrays/qZCAt/src/array.jl:42\n",
      "│  [16] top-level scope at none:0\n",
      "│  [17] include at ./boot.jl:326 [inlined]\n",
      "│  [18] include_relative(::Module, ::String) at ./loading.jl:1038\n",
      "│  [19] include at ./sysimg.jl:29 [inlined]\n",
      "│  [20] include(::String) at /home/bfly/.juliapro/JuliaPro_v1.1.1.1/packages/Flux/lz7S9/src/cuda/cuda.jl:1\n",
      "│  [21] top-level scope at /home/bfly/.juliapro/JuliaPro_v1.1.1.1/packages/Flux/lz7S9/src/cuda/cuda.jl:32\n",
      "│  [22] include at ./boot.jl:326 [inlined]\n",
      "│  [23] include_relative(::Module, ::String) at ./loading.jl:1038\n",
      "│  [24] include at ./sysimg.jl:29 [inlined]\n",
      "│  [25] include(::String) at /home/bfly/.juliapro/JuliaPro_v1.1.1.1/packages/Flux/lz7S9/src/Flux.jl:1\n",
      "│  [26] top-level scope at none:0\n",
      "│  [27] eval at ./boot.jl:328 [inlined]\n",
      "│  [28] eval at /home/bfly/.juliapro/JuliaPro_v1.1.1.1/packages/Flux/lz7S9/src/Flux.jl:1 [inlined]\n",
      "│  [29] (::getfield(Flux, Symbol(\"##147#151\")))() at /home/bfly/.juliapro/JuliaPro_v1.1.1.1/packages/Requires/9Jse8/src/require.jl:67\n",
      "│  [30] err(::getfield(Flux, Symbol(\"##147#151\")), ::Module, ::String) at /home/bfly/.juliapro/JuliaPro_v1.1.1.1/packages/Requires/9Jse8/src/require.jl:38\n",
      "│  [31] #146 at /home/bfly/.juliapro/JuliaPro_v1.1.1.1/packages/Requires/9Jse8/src/require.jl:66 [inlined]\n",
      "│  [32] withpath(::getfield(Flux, Symbol(\"##146#150\")), ::String) at /home/bfly/.juliapro/JuliaPro_v1.1.1.1/packages/Requires/9Jse8/src/require.jl:28\n",
      "│  [33] (::getfield(Flux, Symbol(\"##145#149\")))() at /home/bfly/.juliapro/JuliaPro_v1.1.1.1/packages/Requires/9Jse8/src/require.jl:65\n",
      "│  [34] #invokelatest#1 at ./essentials.jl:742 [inlined]\n",
      "│  [35] invokelatest at ./essentials.jl:741 [inlined]\n",
      "│  [36] #3 at /home/bfly/.juliapro/JuliaPro_v1.1.1.1/packages/Requires/9Jse8/src/require.jl:19 [inlined]\n",
      "│  [37] iterate at ./generator.jl:47 [inlined]\n",
      "│  [38] collect_to!(::Array{Function,1}, ::Base.Generator{Array{Function,1},getfield(Requires, Symbol(\"##3#4\"))}, ::Int64, ::Int64) at ./array.jl:651\n",
      "│  [39] collect_to!(::Array{typeof(CUDAnative.cudaconvert),1}, ::Base.Generator{Array{Function,1},getfield(Requires, Symbol(\"##3#4\"))}, ::Int64, ::Int64) at ./array.jl:659\n",
      "│  [40] collect_to_with_first!(::Array{typeof(CUDAnative.cudaconvert),1}, ::Function, ::Base.Generator{Array{Function,1},getfield(Requires, Symbol(\"##3#4\"))}, ::Int64) at ./array.jl:630\n",
      "│  [41] _collect(::Array{Function,1}, ::Base.Generator{Array{Function,1},getfield(Requires, Symbol(\"##3#4\"))}, ::Base.EltypeUnknown, ::Base.HasShape{1}) at ./array.jl:624\n",
      "│  [42] map at ./array.jl:548 [inlined]\n",
      "│  [43] loadpkg(::Base.PkgId) at /home/bfly/.juliapro/JuliaPro_v1.1.1.1/packages/Requires/9Jse8/src/require.jl:19\n",
      "│  [44] #invokelatest#1 at ./essentials.jl:742 [inlined]\n",
      "│  [45] invokelatest at ./essentials.jl:741 [inlined]\n",
      "│  [46] require(::Base.PkgId) at ./loading.jl:861\n",
      "│  [47] require(::Module, ::Symbol) at ./loading.jl:853\n",
      "│  [48] top-level scope at In[12]:4\n",
      "│  [49] eval at ./boot.jl:328 [inlined]\n",
      "│  [50] softscope_include_string(::Module, ::String, ::String) at /home/bfly/.juliapro/JuliaPro_v1.1.1.1/packages/SoftGlobalScope/cSbw5/src/SoftGlobalScope.jl:218\n",
      "│  [51] execute_request(::ZMQ.Socket, ::IJulia.Msg) at /home/bfly/.juliapro/JuliaPro_v1.1.1.1/packages/IJulia/gI2uA/src/execute_request.jl:67\n",
      "│  [52] #invokelatest#1 at ./essentials.jl:742 [inlined]\n",
      "│  [53] invokelatest at ./essentials.jl:741 [inlined]\n",
      "│  [54] eventloop(::ZMQ.Socket) at /home/bfly/.juliapro/JuliaPro_v1.1.1.1/packages/IJulia/gI2uA/src/eventloop.jl:8\n",
      "│ in expression starting at /home/bfly/.juliapro/JuliaPro_v1.1.1.1/packages/Flux/lz7S9/src/cuda/curnn.jl:82\n",
      "│ in expression starting at /home/bfly/.juliapro/JuliaPro_v1.1.1.1/packages/Flux/lz7S9/src/cuda/cuda.jl:26\n",
      "└ @ Requires /home/bfly/.juliapro/JuliaPro_v1.1.1.1/packages/Requires/9Jse8/src/require.jl:40\n"
     ]
    }
   ],
   "source": [
    "using Flux, Flux.Data.MNIST, Statistics\n",
    "using Flux: onehotbatch, onecold, crossentropy, throttle\n",
    "using Base.Iterators: repeated\n",
    "using CuArrays"
   ]
  },
  {
   "cell_type": "code",
   "execution_count": 400,
   "metadata": {},
   "outputs": [
    {
     "data": {
      "text/plain": [
       "4×1000 CuArray{Float32,2}:\n",
       "   5.99694    3.20781    0.367977   …   5.93905    5.80574    5.98752\n",
       "   0.414695   0.0362879  0.361622      41.0842    36.3539   118.081  \n",
       " -20.6216    -0.350862   0.494666      -6.97674  -12.7689    -6.34596\n",
       " 510.397      0.211178   0.0525127     58.6332   198.111     48.3629 "
      ]
     },
     "execution_count": 400,
     "metadata": {},
     "output_type": "execute_result"
    }
   ],
   "source": [
    "X = X |> gpu\n",
    "Y = Y |> gpu"
   ]
  },
  {
   "cell_type": "code",
   "execution_count": 360,
   "metadata": {},
   "outputs": [
    {
     "data": {
      "text/plain": [
       "Chain(Dense(4, 32, NNlib.σ), Dense(32, 64, NNlib.σ), Dense(64, 32, NNlib.σ), Dense(32, 4))"
      ]
     },
     "execution_count": 360,
     "metadata": {},
     "output_type": "execute_result"
    }
   ],
   "source": [
    "m = Chain(\n",
    "    Dense(4, 32,σ),\n",
    "    Dense( 32,64,σ),\n",
    "    Dense( 64,32,σ),\n",
    "    Dense(32,4)\n",
    "    ) |> gpu\n",
    "    "
   ]
  },
  {
   "cell_type": "code",
   "execution_count": 378,
   "metadata": {},
   "outputs": [
    {
     "data": {
      "text/plain": [
       "loss (generic function with 1 method)"
      ]
     },
     "execution_count": 378,
     "metadata": {},
     "output_type": "execute_result"
    }
   ],
   "source": [
    "loss(x,y) = sum(abs2,m(x)-y)"
   ]
  },
  {
   "cell_type": "code",
   "execution_count": 401,
   "metadata": {},
   "outputs": [
    {
     "data": {
      "text/plain": [
       "Base.Iterators.Take{Base.Iterators.Repeated{Tuple{CuArray{Float32,2},CuArray{Float32,2}}}}(Base.Iterators.Repeated{Tuple{CuArray{Float32,2},CuArray{Float32,2}}}((Float32[0.0446822 0.032315 … 1.13745 0.017288; 0.430412 0.0175042 … 6.09538 20.0526; -19.0717 -2.37596 … -17.9675 -7.75868; 537.681 0.0724981 … 0.204064 0.157017], Float32[5.99694 3.20781 … 5.80574 5.98752; 0.414695 0.0362879 … 36.3539 118.081; -20.6216 -0.350862 … -12.7689 -6.34596; 510.397 0.211178 … 198.111 48.3629])), 5000000)"
      ]
     },
     "execution_count": 401,
     "metadata": {},
     "output_type": "execute_result"
    }
   ],
   "source": [
    "data = Iterators.repeated((X,Y),5000000)"
   ]
  },
  {
   "cell_type": "code",
   "execution_count": 402,
   "metadata": {},
   "outputs": [
    {
     "data": {
      "text/plain": [
       "ADAM(0.001, (0.9, 0.999), IdDict{Any,Any}())"
      ]
     },
     "execution_count": 402,
     "metadata": {},
     "output_type": "execute_result"
    }
   ],
   "source": [
    "opt = ADAM()\n",
    "#opt = ADADelta()"
   ]
  },
  {
   "cell_type": "code",
   "execution_count": 381,
   "metadata": {},
   "outputs": [
    {
     "data": {
      "text/plain": [
       "#18 (generic function with 1 method)"
      ]
     },
     "execution_count": 381,
     "metadata": {},
     "output_type": "execute_result"
    }
   ],
   "source": [
    "evalcb = () -> @show(loss(X, Y))"
   ]
  },
  {
   "cell_type": "code",
   "execution_count": 1,
   "metadata": {
    "scrolled": false
   },
   "outputs": [
    {
     "ename": "UndefVarError",
     "evalue": "UndefVarError: Flux not defined",
     "output_type": "error",
     "traceback": [
      "UndefVarError: Flux not defined",
      "",
      "Stacktrace:",
      " [1] top-level scope at In[1]:1"
     ]
    }
   ],
   "source": [
    "Flux.train!(loss, Flux.params(m), data, opt, cb = throttle(evalcb, 10))"
   ]
  },
  {
   "cell_type": "code",
   "execution_count": 416,
   "metadata": {},
   "outputs": [
    {
     "data": {
      "text/plain": [
       "Chain(Dense(4, 32, NNlib.σ), Dense(32, 64, NNlib.σ), Dense(64, 32, NNlib.σ), Dense(32, 4))"
      ]
     },
     "execution_count": 416,
     "metadata": {},
     "output_type": "execute_result"
    }
   ],
   "source": [
    "m = m |> cpu"
   ]
  },
  {
   "cell_type": "code",
   "execution_count": 417,
   "metadata": {},
   "outputs": [],
   "source": [
    "@save \"model6_1000.bson\" m"
   ]
  },
  {
   "cell_type": "code",
   "execution_count": 333,
   "metadata": {},
   "outputs": [
    {
     "data": {
      "text/plain": [
       "Chain(Dense(4, 64, NNlib.σ), Dense(64, 64, NNlib.σ), Dense(64, 64, NNlib.σ), Dense(64, 64, NNlib.σ), Dense(64, 32, NNlib.σ), Dense(32, 4))"
      ]
     },
     "execution_count": 333,
     "metadata": {},
     "output_type": "execute_result"
    }
   ],
   "source": [
    "@load \"model4.bson\" m\n",
    "m"
   ]
  },
  {
   "cell_type": "code",
   "execution_count": 411,
   "metadata": {},
   "outputs": [
    {
     "data": {
      "text/plain": [
       "4-element Array{Float64,1}:\n",
       "   0.5478856643642798\n",
       "   0.6321214282799031\n",
       "   1.9309052750709483\n",
       " 220.9427033988297   "
      ]
     },
     "execution_count": 411,
     "metadata": {},
     "output_type": "execute_result"
    }
   ],
   "source": [
    "pL = 10 .^ (rand() .*5 .- 2)   #  0.01 -> 1000\n",
    "ρR = 10 .^ (rand() .*4 .- 2)   # 0.01 -> 10\n",
    "uR = rand() .* 22 .- 20        # -20 -> 3\n",
    "pR = 10 .^ (rand() .*5 .- 2) \n",
    "\n",
    "A  = [pL; ρR; uR; pR]"
   ]
  },
  {
   "cell_type": "code",
   "execution_count": 412,
   "metadata": {},
   "outputs": [
    {
     "data": {
      "text/plain": [
       "Tracked 4-element Array{Float32,1}:\n",
       "  6.088658f0 \n",
       "  0.4937687f0\n",
       " -9.092856f0 \n",
       " 97.95693f0  "
      ]
     },
     "execution_count": 412,
     "metadata": {},
     "output_type": "execute_result"
    }
   ],
   "source": [
    "m(A)"
   ]
  },
  {
   "cell_type": "code",
   "execution_count": 413,
   "metadata": {},
   "outputs": [
    {
     "data": {
      "text/plain": [
       "(W(5.822182894435117, -9.281282171390108, 104.55381969908117), W(0.3704253365940481, -9.281282171390108, 104.55381969908117))"
      ]
     },
     "execution_count": 413,
     "metadata": {},
     "output_type": "execute_result"
    }
   ],
   "source": [
    "Wₗ = W(1.0, 0.0, pL)\n",
    "Wᵣ = W(ρR,uR,pR)\n",
    "γ = 1.4\n",
    " WLStar, WRStar = RiemannSolver(Wₗ,Wᵣ,γ)\n",
    "\n",
    "\n",
    "# 5.99\n",
    "# 67.16\n",
    "# -9.92\n",
    "# 118.33"
   ]
  },
  {
   "cell_type": "markdown",
   "metadata": {},
   "source": [
    "#  Error Test"
   ]
  },
  {
   "cell_type": "code",
   "execution_count": 552,
   "metadata": {},
   "outputs": [],
   "source": [
    "X_test = zeros(Float32, (4,1000))\n",
    "Y_test = zeros(Float32, (4,1000))\n",
    "for i in 1:1000    \n",
    "    pL = 10 .^ (rand() .*5 .- 2)   #  0.01 -> 1000\n",
    "    ρR = 10 .^ (rand() .*4 .- 2)   # 0.01 -> 10\n",
    "    uR = rand() .* 22 .- 20        # -20 -> 3\n",
    "    pR = 10 .^ (rand() .*5 .- 2)   \n",
    "    X_test[1:4,i ] = [pL,ρR,uR,pR]\n",
    "end"
   ]
  },
  {
   "cell_type": "code",
   "execution_count": 553,
   "metadata": {},
   "outputs": [],
   "source": [
    "#function \n",
    "Y_test = zeros(Float32, (4,1000))\n",
    "γ = 1.4\n",
    "Wₗ = W(1.0,1.0,1.0)\n",
    "Wᵣ = W(1.0,1.0,1.0)\n",
    "for i = 1:1000\n",
    "#i = 1\n",
    "    Wₗ = W(1.0,0.0,X[1,i])\n",
    "    Wᵣ = W(X[2,i],X[3,i],X[4,i])\n",
    "    WₗStar,WᵣStar = RiemannSolver(Wₗ,Wᵣ,γ)\n",
    "    Y_test[1,i] = WₗStar.ρ\n",
    "    Y_test[2,i] = WᵣStar.ρ\n",
    "    Y_test[3,i] =WₗStar.u\n",
    "    Y_test[4,i] =WₗStar.p\n",
    "end"
   ]
  },
  {
   "cell_type": "code",
   "execution_count": 40,
   "metadata": {},
   "outputs": [
    {
     "data": {
      "text/plain": [
       "0.05"
      ]
     },
     "execution_count": 40,
     "metadata": {},
     "output_type": "execute_result"
    }
   ],
   "source": [
    "√(0.01/4)"
   ]
  },
  {
   "cell_type": "code",
   "execution_count": 38,
   "metadata": {},
   "outputs": [
    {
     "data": {
      "text/plain": [
       "0.06324555320336758"
      ]
     },
     "execution_count": 38,
     "metadata": {},
     "output_type": "execute_result"
    }
   ],
   "source": [
    "√(0.004)"
   ]
  },
  {
   "cell_type": "code",
   "execution_count": null,
   "metadata": {},
   "outputs": [],
   "source": []
  }
 ],
 "metadata": {
  "kernelspec": {
   "display_name": "Julia 1.1.1",
   "language": "julia",
   "name": "julia-1.1"
  },
  "language_info": {
   "file_extension": ".jl",
   "mimetype": "application/julia",
   "name": "julia",
   "version": "1.1.1"
  }
 },
 "nbformat": 4,
 "nbformat_minor": 2
}
