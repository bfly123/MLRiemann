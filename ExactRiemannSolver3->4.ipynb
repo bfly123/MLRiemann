{
 "cells": [
  {
   "cell_type": "markdown",
   "metadata": {},
   "source": [
    "# An Exact Riemann solver for 1D Euler equation"
   ]
  },
  {
   "cell_type": "markdown",
   "metadata": {},
   "source": [
    "## Governing Equation\n",
    "The governing equation for the Riemann problem is the Euler equations\n",
    "\n",
    "$$ \\mathbf{U}_t+\\mathbf{F}(\\mathbf{U})_x = 0$$\n",
    "\n",
    "where \n",
    "\n",
    "$$\\mathbf{U} = \\left[ \\begin{align}\n",
    "\\rho\\\\\n",
    "\\rho u\\\\ \n",
    "E\\\\ \n",
    "\\end{align} \n",
    "\\right]\n",
    "$$, $$\n",
    "\\mathbf{F} = \\left[ \\begin{align}\n",
    "\\rho u\\\\ \\rho u^2+p\\\\ u(E+p)\\\\ \n",
    "\\end{align} \\right] $$\n",
    "\n",
    "with initial conditions of\n",
    "\n",
    "$$ \\mathbf{U}(x,0) = \\mathbf{U}^{(0)}(x)\n",
    "= \\left\\{ \\begin{align} \n",
    "\\mathbf{U}_L,\\quad \\text{if} \\quad x<0, \\\\\n",
    "\\mathbf{U}_R,\\quad \\text{if} \\quad x>0, \\\\\n",
    "\\end{align} \\right.\n",
    "$$\n",
    "\n",
    "And the EOS is\n",
    "\n",
    "$$ e = \\frac{p}{(\\gamma-1)\\rho}$$.\n"
   ]
  },
  {
   "cell_type": "code",
   "execution_count": null,
   "metadata": {},
   "outputs": [],
   "source": []
  },
  {
   "cell_type": "code",
   "execution_count": 1,
   "metadata": {},
   "outputs": [],
   "source": [
    "struct W\n",
    "    ρ::Float64\n",
    "    u::Float64\n",
    "    p::Float64\n",
    "end"
   ]
  },
  {
   "cell_type": "markdown",
   "metadata": {},
   "source": [
    "## Solving method\n",
    "\n",
    "In the Star region, we establish a function of the pressure $p^*$ with the velocity $u^*$ on left and right sepratively.\n",
    "### Left function \n",
    "$$f_L(p, \\mathbf{W}_L) = \\left\\{ \\begin{align} \n",
    "(p-p_L)\\left[\\frac{A_L}{p+B_L}\\right]^{1/2} \\quad \\text{if} \\quad p>p_L \\quad \\text(shock),\\\\\n",
    "\\frac{2a_L}{\\gamma -1} \\left[ \\left(\\frac{p}{p_L}\\right)^{\\frac{\\gamma-1}{2\\gamma}} -1\\right] \\quad \\text{if} \\quad p\\le p_L \\quad \\text{(rarefaction)}\n",
    "\\end{align} \\right.\n",
    "$$\n",
    "and the data-dependent constants $A_L, B_L, A_R,B_R$ are given by\n",
    "$$ \\left. \\begin{array}{ll}\n",
    "      A_L = \\frac{2}{(\\gamma+1)\\rho_L},& B_L = \\frac{(\\gamma -1)}{(\\gamma +1)}p_L,\\\\\n",
    "      A_R = \\frac{2}{(\\gamma+1)\\rho_R},& B_R = \\frac{(\\gamma -1)}{(\\gamma +1)}p_R,\\\\\n",
    "      \\end{array}\\right\\} $$"
   ]
  },
  {
   "cell_type": "code",
   "execution_count": 2,
   "metadata": {},
   "outputs": [
    {
     "data": {
      "text/plain": [
       "f (generic function with 1 method)"
      ]
     },
     "execution_count": 2,
     "metadata": {},
     "output_type": "execute_result"
    }
   ],
   "source": [
    "function f(p::Float64,W₀::W,γ::Float64)\n",
    "    ρ₀,u₀,p₀ = W₀.ρ,W₀.u,W₀.p\n",
    "    \n",
    "    A = 2/((γ +1 )*ρ₀)\n",
    "    B = (γ-1)/(γ+1)*p₀\n",
    "    \n",
    "    if p>p₀ \n",
    "        return (p-p₀)*√(A/(p+B))\n",
    "    else\n",
    "        a₀ = √(γ*p₀/ρ₀)\n",
    "        return 2a₀/(γ-1)*((p/p₀)^((γ-1)/2/γ) -1)\n",
    "    end\n",
    "end    "
   ]
  },
  {
   "cell_type": "markdown",
   "metadata": {},
   "source": [
    "$$\\rho_L^* = \\rho_L(p^*/p_L)^{1/\\gamma}$$\n",
    "$$u^* = u_L -f_L(p^*,W_L)$$\n",
    "\n",
    "$$\\rho_R^* = \\rho_R(p^*/p_R)^{1/\\gamma}$$\n",
    "$$u^* = u_R +f_R(p^*,W_R)$$"
   ]
  },
  {
   "cell_type": "code",
   "execution_count": 3,
   "metadata": {},
   "outputs": [
    {
     "data": {
      "text/plain": [
       "ρₚ (generic function with 1 method)"
      ]
     },
     "execution_count": 3,
     "metadata": {},
     "output_type": "execute_result"
    }
   ],
   "source": [
    "function ρₚ(p::Float64,W₀::W,γ::Float64)\n",
    "    if p < W₀.p\n",
    "       return W₀.ρ*(p/W₀.p)^(1/γ)\n",
    "    else \n",
    "        return W₀.ρ*((γ-1)/(γ+1)+p/W₀.p)/((γ-1)/(γ+1)*p/W₀.p+1)\n",
    "    end\n",
    "end"
   ]
  },
  {
   "cell_type": "code",
   "execution_count": 4,
   "metadata": {},
   "outputs": [
    {
     "data": {
      "text/plain": [
       "Derivative (generic function with 1 method)"
      ]
     },
     "execution_count": 4,
     "metadata": {},
     "output_type": "execute_result"
    }
   ],
   "source": [
    "function Derivative(f::Function,x::Float64)\n",
    "    ϵ₀ = 1e-10\n",
    "    if abs(x) >= ϵ₀\n",
    "        ϵ= ϵ₀*x\n",
    "    else\n",
    "        ϵ =ϵ₀\n",
    "    end\n",
    "    f¹(x) = (f(x+ϵ)-f(x))/ϵ\n",
    "    return f¹(x)\n",
    "end"
   ]
  },
  {
   "cell_type": "code",
   "execution_count": 5,
   "metadata": {},
   "outputs": [
    {
     "data": {
      "text/plain": [
       "F¹ (generic function with 1 method)"
      ]
     },
     "execution_count": 5,
     "metadata": {},
     "output_type": "execute_result"
    }
   ],
   "source": [
    "    fₗ(p) = f(p,Wₗ,γ)\n",
    "    fᵣ(p) = f(p,Wᵣ,γ)\n",
    "    F(p) = fₗ(p) + fᵣ(p)+Wᵣ.u-Wₗ.u\n",
    "    F¹(p) = Derivative(p->F(p),p)"
   ]
  },
  {
   "cell_type": "markdown",
   "metadata": {},
   "source": [
    "## Newton iteration \n",
    "\n",
    "We use the Newton iteration method to solve\n",
    "$$f_L(p) +f_R(p)+ u_R-u_L = 0$$"
   ]
  },
  {
   "cell_type": "code",
   "execution_count": 6,
   "metadata": {},
   "outputs": [
    {
     "data": {
      "text/plain": [
       "RiemannSolver (generic function with 1 method)"
      ]
     },
     "execution_count": 6,
     "metadata": {},
     "output_type": "execute_result"
    }
   ],
   "source": [
    "function RiemannSolver(Wₗ::W,Wᵣ::W,γ::Float64)    \n",
    "   #     γ = 1.4\n",
    "     p = (Wₗ.p + Wᵣ.p)/2\n",
    "     TOL = 1.0e-4\n",
    "   #  i = 1\n",
    "    \n",
    "    ϵ = 1.0e-8\n",
    "    \n",
    "    WₗStar = W(ϵ,0,ϵ)\n",
    "    WᵣStar = W(ϵ,0,ϵ)\n",
    "    \n",
    "     aₗ = √(γ*Wₗ.p/Wₗ.ρ) \n",
    "     aᵣ = √(γ*Wᵣ.p/Wᵣ.ρ) \n",
    "     cri = aₗ/(γ-1) + aᵣ/(γ-1) +Wₗ.u-Wᵣ.u\n",
    "    \n",
    "    if cri >0\n",
    "        while true \n",
    "            F₁ = F(p)\n",
    "             p1 = p- F₁/F¹(p)\n",
    "             if max(abs(F₁),2*abs(p1-p)/(p1+p)) < TOL\n",
    "                break\n",
    "            end \n",
    "        #    i += 1\n",
    "            p=max(p1,TOL)\n",
    "         #   @show p,F₁  \n",
    "        end\n",
    "\n",
    "        pStar = p\n",
    "        uStar = Wₗ.u-fₗ(p)\n",
    "        ρₗStar = ρₚ(p,Wₗ,γ)\n",
    "        ρᵣStar = ρₚ(p,Wᵣ,γ)\n",
    "        WₗStar = W(ρₗStar,uStar,pStar)\n",
    "        WᵣStar = W(ρᵣStar,uStar,pStar)\n",
    "    end\n",
    "    \n",
    "    return WₗStar,WᵣStar\n",
    "end"
   ]
  },
  {
   "cell_type": "markdown",
   "metadata": {},
   "source": [
    "### A complete result\n",
    "After Solving the states in the star regions, if we want to get a detailed ditribution, we can use the following function.\n"
   ]
  },
  {
   "cell_type": "code",
   "execution_count": 7,
   "metadata": {},
   "outputs": [
    {
     "data": {
      "text/plain": [
       "SolveDistr (generic function with 1 method)"
      ]
     },
     "execution_count": 7,
     "metadata": {},
     "output_type": "execute_result"
    }
   ],
   "source": [
    "function SolveDistr(t::Float64,Wₗ::W,Wᵣ::W,γ::Float64)\n",
    "    \n",
    "    WₗStar,WᵣStar = RiemannSolver(Wₗ,Wᵣ,γ)\n",
    "    \n",
    "    ρₗStar,uStar, pStar =WₗStar.ρ,WₗStar.u,WₗStar.p\n",
    "    ρᵣStar = WᵣStar.ρ\n",
    "    ρₗ,pₗ,uₗ = Wₗ.ρ,Wₗ.p,Wₗ.u\n",
    "    ρᵣ,pᵣ,uᵣ = Wᵣ.ρ,Wᵣ.p,Wᵣ.u\n",
    "    \n",
    "    I = 1200\n",
    "    U = zeros(Float64,(I,3))\n",
    "    x = zeros(Float64,I)\n",
    "    if pStar > pₗ  # Left shock\n",
    "        sL = (ρₗStar*uStar - ρₗ*uₗ)/(ρₗStar-ρₗ)\n",
    "        for i =1:200\n",
    "            x[i] = (2-0.005*(i-1))*sL*t\n",
    "            U[i,:] = [ρₗ,uₗ,pₗ]\n",
    "        end\n",
    "        for i = 201:600\n",
    "            x[i] = ((uStar-sL)/400*(i-200) + sL)*t\n",
    "            U[i,:] = [ρₗStar,uStar,pStar]\n",
    "        end\n",
    "    else  # Left Rarefaction\n",
    "        cL = √(γ*pₗ/ρₗ)\n",
    "        cLStar = √(γ*pStar/ρₗStar)\n",
    "        sLSlow = uₗ - cL\n",
    "        sLFast = uStar - cLStar\n",
    "        for i = 1:200\n",
    "            x[i] =(2-0.005*(i-1))*sLSlow*t\n",
    "            U[i,:] = [ρₗ,uₗ,pₗ]\n",
    "        end\n",
    "        \n",
    "        x[201:400],U[201:400,:] = RareSpeedToU(t,Wₗ,pStar,γ,1)\n",
    "        for i =401:600\n",
    "            x[i] = ((uStar - sLFast)/200*(i-400) + sLFast)*t \n",
    "            U[i,:] = [ρₗStar,uStar,pStar]\n",
    "        end \n",
    "    end\n",
    "    \n",
    "    if pStar > pᵣ  # Right shock\n",
    "        sR = (ρᵣStar*uStar - ρᵣ*uᵣ)/(ρᵣStar-ρᵣ)\n",
    "      #  @show ρᵣStar, ρᵣ\n",
    "        for i =601:1000\n",
    "            x[i] = ((-uStar+sR)/400*(i-600) + uStar)*t\n",
    "            U[i,:] = [ρᵣStar,uStar,pStar]\n",
    "        end\n",
    "        for i = 1001:1200\n",
    "            x[i] = (1+0.005*(i-1001))*sR*t\n",
    "            U[i,:] = [ρᵣ,uᵣ,pᵣ]\n",
    "        end\n",
    "    else  # Right Rarefaction\n",
    "        cR = √(γ*pᵣ/ρᵣ)\n",
    "        cRStar = √(γ*pStar/ρᵣStar)\n",
    "        sRFast = uᵣ + cR\n",
    "        sRSlow = uStar + cRStar\n",
    "        \n",
    "        for i = 1000:1200\n",
    "           x[i] =(1+0.005*(i-1001))*sRFast*t\n",
    "            U[i,:] = [ρᵣ,uᵣ,pᵣ]\n",
    "        end\n",
    "        \n",
    "        x[801:1000],U[801:1000,:] = RareSpeedToU(t,Wᵣ,pStar,γ,2)\n",
    "        for i =601:800\n",
    "             x[i] = ((-uStar + sRSlow)/200*(i-600) + uStar)*t \n",
    "             U[i,:] = [ρᵣStar,uStar,pStar]\n",
    "        end \n",
    "    end\n",
    "    return x, U\n",
    "end"
   ]
  },
  {
   "cell_type": "code",
   "execution_count": 8,
   "metadata": {},
   "outputs": [
    {
     "data": {
      "text/plain": [
       "RareSpeedToU (generic function with 1 method)"
      ]
     },
     "execution_count": 8,
     "metadata": {},
     "output_type": "execute_result"
    }
   ],
   "source": [
    "function RareSpeedToU(t::Float64, W₀::W, p::Float64,γ::Float64,LoR::Int)\n",
    "    ρ₀,u₀,p₀ = W₀.ρ, W₀.u,W₀.p\n",
    "    \n",
    "    x = zeros(Float64,200)\n",
    "    U = zeros(Float64,(200,3))\n",
    "    \n",
    "    Δp = (p-p₀)/200\n",
    "    \n",
    "    for i in 1:200\n",
    "        p = p₀ + Δp*(i-1)\n",
    "        ρ = ρₚ(p, W₀, γ)\n",
    "        c= √(γ*p/ρ)\n",
    "        f₀ = f(p, W₀, γ)\n",
    "        if LoR == 1\n",
    "            u = u₀-f₀\n",
    "            uc = u-c\n",
    "        x[i] = uc*t\n",
    "        U[i,1:3] = [ρ,u,p]\n",
    "        else\n",
    "            u = u₀+f₀\n",
    "            uc = u+c\n",
    "        x[200-i+1] = uc*t\n",
    "        U[200-i+1,1:3] = [ρ,u,p]\n",
    "        end\n",
    "        \n",
    "    end\n",
    "    return x, U            \n",
    "end"
   ]
  },
  {
   "cell_type": "code",
   "execution_count": 11,
   "metadata": {},
   "outputs": [
    {
     "data": {
      "text/plain": [
       "([-0.236643, -0.236052, -0.23546, -0.234868, -0.234277, -0.233685, -0.233094, -0.232502, -0.23191, -0.231319  …  0.34167, 0.342546, 0.343423, 0.344299, 0.345175, 0.346051, 0.346927, 0.347803, 0.348679, 0.349555], [1.0 0.0 1.0; 1.0 0.0 1.0; … ; 0.125 0.0 0.1; 0.125 0.0 0.1])"
      ]
     },
     "execution_count": 11,
     "metadata": {},
     "output_type": "execute_result"
    }
   ],
   "source": [
    "Wₗ = W(1.0,0.0,1.0)\n",
    "Wᵣ = W(0.125,0.0,0.1)\n",
    "γ = 1.4\n",
    "#RiemannSolver(Wₗ,Wᵣ,γ)\n",
    "x,U = SolveDistr(0.1,Wₗ,Wᵣ,γ)"
   ]
  },
  {
   "cell_type": "code",
   "execution_count": 11,
   "metadata": {},
   "outputs": [
    {
     "data": {
      "text/plain": [
       "Plots.PyPlotBackend()"
      ]
     },
     "execution_count": 11,
     "metadata": {},
     "output_type": "execute_result"
    }
   ],
   "source": [
    "using Plots\n",
    "using LaTeXStrings\n",
    "pyplot()"
   ]
  },
  {
   "cell_type": "code",
   "execution_count": 12,
   "metadata": {},
   "outputs": [
    {
     "data": {
      "image/png": "[encoded data removed]"
     },
     "execution_count": 12,
     "metadata": {},
     "output_type": "execute_result"
    }
   ],
   "source": [
    "p1 = plot(x,U[:,1], xlabel = \"x\", ylabel=L\" \\rho\",width =2 ,label = \"Exact\",color =\"black\")\n",
    "p2 = plot(x,U[:,2], xlabel = \"x\", ylabel=L\" u\",width =2 ,label = \"Exact\",color =\"black\")\n",
    "p3 = plot(x,U[:,3], xlabel = \"x\", ylabel=L\" p\",width =2 ,label = \"Exact\",color =\"black\")\n",
    "l=@layout [a [b;c]]\n",
    "p = plot(p1,p2,p3,layout=l)"
   ]
  },
  {
   "cell_type": "code",
   "execution_count": 13,
   "metadata": {},
   "outputs": [
    {
     "data": {
      "text/plain": [
       "([-7.48331, -7.46461, -7.4459, -7.42719, -7.40848, -7.38977, -7.37107, -7.35236, -7.33365, -7.31494  …  4.58593, 4.59769, 4.60945, 4.62121, 4.63297, 4.64473, 4.65649, 4.66825, 4.68, 4.69176], [1.0 0.0 1000.0; 1.0 0.0 1000.0; … ; 1.0 0.0 0.01; 1.0 0.0 0.01])"
      ]
     },
     "execution_count": 13,
     "metadata": {},
     "output_type": "execute_result"
    }
   ],
   "source": [
    "Wₗ = W(1.0,0.0,1000)\n",
    "Wᵣ = W(1.0,0.0,0.01)\n",
    "γ = 1.4\n",
    "#RiemannSolver(Wₗ,Wᵣ,γ)\n",
    "x,U = SolveDistr(0.1,Wₗ,Wᵣ,γ)"
   ]
  },
  {
   "cell_type": "code",
   "execution_count": 14,
   "metadata": {},
   "outputs": [
    {
     "data": {
      "image/png": "[encoded data removed]"
     },
     "execution_count": 14,
     "metadata": {},
     "output_type": "execute_result"
    }
   ],
   "source": [
    "p1 = plot(x,U[:,1], xlabel = \"x\", ylabel=L\" \\rho\",width =2 ,label = \"Exact\",color =\"black\")\n",
    "p2 = plot(x,U[:,2], xlabel = \"x\", ylabel=L\" u\",width =2 ,label = \"Exact\",color =\"black\")\n",
    "p3 = plot(x,U[:,3], xlabel = \"x\", ylabel=L\" p\",width =2 ,label = \"Exact\",color =\"black\")\n",
    "l=@layout [a [b;c]]\n",
    "p = plot(p1,p2,p3,layout=l)"
   ]
  },
  {
   "cell_type": "code",
   "execution_count": 15,
   "metadata": {},
   "outputs": [
    {
     "data": {
      "text/plain": [
       "([-1.48749, -1.48377, -1.48006, -1.47634, -1.47262, -1.4689, -1.46518, -1.46146, -1.45774, -1.45402  …  2.30727, 2.31319, 2.3191, 2.32502, 2.33094, 2.33685, 2.34277, 2.34868, 2.3546, 2.36052], [1.0 0.0 0.01; 1.0 0.0 0.01; … ; 1.0 0.0 100.0; 1.0 0.0 100.0])"
      ]
     },
     "execution_count": 15,
     "metadata": {},
     "output_type": "execute_result"
    }
   ],
   "source": [
    "Wₗ = W(1.0,0.0,0.01)\n",
    "Wᵣ = W(1.0,0.0,100)\n",
    "γ = 1.4\n",
    "#RiemannSolver(Wₗ,Wᵣ,γ)\n",
    "x,U = SolveDistr(0.1,Wₗ,Wᵣ,γ)"
   ]
  },
  {
   "cell_type": "code",
   "execution_count": 15,
   "metadata": {
    "scrolled": true
   },
   "outputs": [
    {
     "data": {
      "image/png": "[encoded data removed]"
     },
     "execution_count": 15,
     "metadata": {},
     "output_type": "execute_result"
    }
   ],
   "source": [
    "p1 = plot(x,U[:,1], xlabel = \"x\", ylabel=L\" \\rho\",width =2 ,label = \"Exact\",color =\"black\")\n",
    "p2 = plot(x,U[:,2], xlabel = \"x\", ylabel=L\" u\",width =2 ,label = \"Exact\",color =\"black\")\n",
    "p3 = plot(x,U[:,3], xlabel = \"x\", ylabel=L\" p\",width =2 ,label = \"Exact\",color =\"black\")\n",
    "l=@layout [a [b;c]]\n",
    "p = plot(p1,p2,p3,layout=l)"
   ]
  },
  {
   "cell_type": "code",
   "execution_count": 1,
   "metadata": {},
   "outputs": [
    {
     "ename": "UndefVarError",
     "evalue": "UndefVarError: W not defined",
     "output_type": "error",
     "traceback": [
      "UndefVarError: W not defined",
      "",
      "Stacktrace:",
      " [1] top-level scope at In[1]:1"
     ]
    }
   ],
   "source": [
    "Wₗ = W(1.0,0.0,0.01)\n",
    "Wᵣ = W(1.0,1.0,0.01)\n",
    "γ = 1.4\n",
    "#RiemannSolver(Wₗ,Wᵣ,γ)\n",
    "x,U = SolveDistr(0.1,Wₗ,Wᵣ,γ)"
   ]
  },
  {
   "cell_type": "code",
   "execution_count": 16,
   "metadata": {},
   "outputs": [
    {
     "data": {
      "image/png": "[encoded data removed]"
     },
     "execution_count": 16,
     "metadata": {},
     "output_type": "execute_result"
    }
   ],
   "source": [
    "p1 = plot(x,U[:,1], xlabel = \"x\", ylabel=L\" \\rho\",width =2 ,label = \"Exact\",color =\"black\")\n",
    "p2 = plot(x,U[:,2], xlabel = \"x\", ylabel=L\" u\",width =2 ,label = \"Exact\",color =\"black\")\n",
    "p3 = plot(x,U[:,3], xlabel = \"x\", ylabel=L\" p\",width =2 ,label = \"Exact\",color =\"black\")\n",
    "l=@layout [a [b;c]]\n",
    "p = plot(p1,p2,p3,layout=l)"
   ]
  },
  {
   "cell_type": "markdown",
   "metadata": {},
   "source": [
    "# Training set"
   ]
  },
  {
   "cell_type": "code",
   "execution_count": 120,
   "metadata": {},
   "outputs": [],
   "source": [
    "using BenchmarkTools"
   ]
  },
  {
   "cell_type": "code",
   "execution_count": 9,
   "metadata": {},
   "outputs": [],
   "source": [
    "N = 10^4\n",
    "\n",
    "X1 = zeros(Float32, (3,N))\n",
    "for i in 1:N    \n",
    "  #  pL = 10 .^ (rand() .*4 .- 2)   #  0.01 -> 1000\n",
    "    ρR = 10 .^ (rand() .*3 .- 2)   # 0.01 -> 100\n",
    "    uR = rand() .* 23 .- 20        # -20 -> 3\n",
    "    pR = 10 .^ (rand() .*5 .- 2)   \n",
    "    X1[1:3,i ] = [ρR,uR,pR]\n",
    "end"
   ]
  },
  {
   "cell_type": "code",
   "execution_count": 10,
   "metadata": {},
   "outputs": [],
   "source": [
    "Y1 = zeros(Float32, (4,N))\n",
    "γ = 1.4\n",
    "Wₗ = W(1.0,1.0,1.0)\n",
    "Wᵣ = W(1.0,1.0,1.0)\n",
    "for i = 1:N\n",
    "#i = 1\n",
    "    Wₗ = W(1.0,0.0,1.0)\n",
    "    Wᵣ = W(X1[1,i],X1[2,i],X1[3,i])\n",
    "    WₗStar,WᵣStar = RiemannSolver(Wₗ,Wᵣ,γ)\n",
    "    Y1[1,i] = WₗStar.ρ\n",
    "    Y1[2,i] = WᵣStar.ρ\n",
    "    Y1[3,i] =WₗStar.u\n",
    "    Y1[4,i] =WₗStar.p \n",
    "end"
   ]
  },
  {
   "cell_type": "code",
   "execution_count": 11,
   "metadata": {},
   "outputs": [
    {
     "data": {
      "text/plain": [
       "4×10000 Array{Float32,2}:\n",
       "  5.60186   4.40562      5.79803  …    5.71263    4.38652     4.23963\n",
       " 11.7965    0.0214085   10.9838        0.476481   0.0172932   7.88627\n",
       " -8.15267  -3.39975    -11.7309       -9.73135   -3.36792    -3.13746\n",
       " 81.9094   15.9522     167.294       115.794     15.6923     13.8822 "
      ]
     },
     "execution_count": 11,
     "metadata": {},
     "output_type": "execute_result"
    }
   ],
   "source": [
    "X = X1\n",
    "Y = Y1"
   ]
  },
  {
   "cell_type": "code",
   "execution_count": 12,
   "metadata": {},
   "outputs": [],
   "source": [
    "using BSON:@save,@load\n",
    "@save  \"DATA.bson\" X Y"
   ]
  },
  {
   "cell_type": "code",
   "execution_count": 13,
   "metadata": {},
   "outputs": [],
   "source": [
    "using Flux, Flux.Data.MNIST, Statistics\n",
    "using Flux: onehotbatch, onecold, crossentropy, throttle\n",
    "using Base.Iterators: repeated\n",
    "using CuArrays"
   ]
  },
  {
   "cell_type": "code",
   "execution_count": null,
   "metadata": {},
   "outputs": [],
   "source": []
  },
  {
   "cell_type": "code",
   "execution_count": 14,
   "metadata": {},
   "outputs": [
    {
     "data": {
      "text/plain": [
       "4×10000 CuArray{Float32,2}:\n",
       "  5.60186   4.40562      5.79803  …    5.71263    4.38652     4.23963\n",
       " 11.7965    0.0214085   10.9838        0.476481   0.0172932   7.88627\n",
       " -8.15267  -3.39975    -11.7309       -9.73135   -3.36792    -3.13746\n",
       " 81.9094   15.9522     167.294       115.794     15.6923     13.8822 "
      ]
     },
     "execution_count": 14,
     "metadata": {},
     "output_type": "execute_result"
    }
   ],
   "source": [
    "X = X |> gpu\n",
    "Y = Y |> gpu"
   ]
  },
  {
   "cell_type": "markdown",
   "metadata": {},
   "source": [
    "### model"
   ]
  },
  {
   "cell_type": "code",
   "execution_count": 144,
   "metadata": {},
   "outputs": [
    {
     "data": {
      "text/plain": [
       "Chain(Dense(3, 32, NNlib.σ), Dense(32, 72, NNlib.σ), Dense(72, 4))"
      ]
     },
     "execution_count": 144,
     "metadata": {},
     "output_type": "execute_result"
    }
   ],
   "source": [
    "#  m = Chain(\n",
    "#     Dense(3, 32,σ),\n",
    "#  #   Dense(16, 32,σ),\n",
    "#     Dense(32, 72,σ),\n",
    "#  #   Dense(36, 36,σ),\n",
    "# #    Dense( 18,36,σ),\n",
    "#    # Dense( 32,32,σ),\n",
    "#    #  Dense( 64,64,σ),\n",
    "# #    Dense( 36,18,σ),\n",
    "#  #   Dense( 72,16,σ),\n",
    "#  #  Dropout(0.5),\n",
    "#     Dense(72,4)\n",
    "#     ) |> gpu\n",
    "    "
   ]
  },
  {
   "cell_type": "markdown",
   "metadata": {},
   "source": [
    "### Loss function"
   ]
  },
  {
   "cell_type": "code",
   "execution_count": 15,
   "metadata": {},
   "outputs": [
    {
     "data": {
      "text/plain": [
       "loss (generic function with 1 method)"
      ]
     },
     "execution_count": 15,
     "metadata": {},
     "output_type": "execute_result"
    }
   ],
   "source": [
    "loss(x,y) = sum(abs2,(m(x)-y))/N"
   ]
  },
  {
   "cell_type": "code",
   "execution_count": 16,
   "metadata": {},
   "outputs": [
    {
     "data": {
      "text/plain": [
       "Base.Iterators.Take{Base.Iterators.Repeated{Tuple{CuArray{Float32,2},CuArray{Float32,2}}}}(Base.Iterators.Repeated{Tuple{CuArray{Float32,2},CuArray{Float32,2}}}((Float32[3.60328 0.013518 … 0.0131746 1.9727; -11.8241 -17.8572 … -12.8697 -5.33228; 11.9778 8.28602 … 10.698 1.20925], Float32[5.60186 4.40562 … 4.38652 4.23963; 11.7965 0.0214085 … 0.0172932 7.88627; -8.15267 -3.39975 … -3.36792 -3.13746; 81.9094 15.9522 … 15.6923 13.8822])), 1000000000)"
      ]
     },
     "execution_count": 16,
     "metadata": {},
     "output_type": "execute_result"
    }
   ],
   "source": [
    "data = Iterators.repeated((X,Y),1000000000)"
   ]
  },
  {
   "cell_type": "markdown",
   "metadata": {},
   "source": [
    "### Optomizer"
   ]
  },
  {
   "cell_type": "code",
   "execution_count": 17,
   "metadata": {},
   "outputs": [
    {
     "data": {
      "text/plain": [
       "ADAM(0.001, (0.9, 0.999), IdDict{Any,Any}())"
      ]
     },
     "execution_count": 17,
     "metadata": {},
     "output_type": "execute_result"
    }
   ],
   "source": [
    "opt = ADAM()\n",
    "#opt = ADADelta()"
   ]
  },
  {
   "cell_type": "code",
   "execution_count": 18,
   "metadata": {},
   "outputs": [
    {
     "data": {
      "text/plain": [
       "#6 (generic function with 1 method)"
      ]
     },
     "execution_count": 18,
     "metadata": {},
     "output_type": "execute_result"
    }
   ],
   "source": [
    "evalcb = () -> @show(loss(X, Y))"
   ]
  },
  {
   "cell_type": "code",
   "execution_count": null,
   "metadata": {
    "scrolled": true
   },
   "outputs": [
    {
     "name": "stdout",
     "output_type": "stream",
     "text": [
      "loss(X, Y) = 414.1908f0 (tracked)\n",
      "loss(X, Y) = 0.59248954f0 (tracked)\n",
      "loss(X, Y) = 0.5190531f0 (tracked)\n",
      "loss(X, Y) = 0.47846153f0 (tracked)\n",
      "loss(X, Y) = 0.4440053f0 (tracked)\n",
      "loss(X, Y) = 0.45769286f0 (tracked)\n",
      "loss(X, Y) = 0.3964314f0 (tracked)\n",
      "loss(X, Y) = 0.75832886f0 (tracked)\n",
      "loss(X, Y) = 0.37352473f0 (tracked)\n",
      "loss(X, Y) = 0.35138726f0 (tracked)\n",
      "loss(X, Y) = 0.34058967f0 (tracked)\n",
      "loss(X, Y) = 1.2640657f0 (tracked)\n",
      "loss(X, Y) = 0.320592f0 (tracked)\n",
      "loss(X, Y) = 0.3124482f0 (tracked)\n",
      "loss(X, Y) = 0.3279043f0 (tracked)\n",
      "loss(X, Y) = 0.30064663f0 (tracked)\n",
      "loss(X, Y) = 0.29111958f0 (tracked)\n",
      "loss(X, Y) = 0.28740874f0 (tracked)\n",
      "loss(X, Y) = 0.28025758f0 (tracked)\n",
      "loss(X, Y) = 0.28197291f0 (tracked)\n",
      "loss(X, Y) = 0.26861095f0 (tracked)\n",
      "loss(X, Y) = 0.26617885f0 (tracked)\n",
      "loss(X, Y) = 0.3177484f0 (tracked)\n",
      "loss(X, Y) = 0.25918764f0 (tracked)\n",
      "loss(X, Y) = 0.25585997f0 (tracked)\n",
      "loss(X, Y) = 0.25024274f0 (tracked)\n",
      "loss(X, Y) = 0.5377996f0 (tracked)\n",
      "loss(X, Y) = 0.48156178f0 (tracked)\n",
      "loss(X, Y) = 0.2629521f0 (tracked)\n",
      "loss(X, Y) = 0.23774594f0 (tracked)\n",
      "loss(X, Y) = 0.26029047f0 (tracked)\n",
      "loss(X, Y) = 0.23338547f0 (tracked)\n",
      "loss(X, Y) = 0.2335031f0 (tracked)\n",
      "loss(X, Y) = 0.22491074f0 (tracked)\n",
      "loss(X, Y) = 0.24302822f0 (tracked)\n",
      "loss(X, Y) = 0.21920137f0 (tracked)\n",
      "loss(X, Y) = 0.21669026f0 (tracked)\n",
      "loss(X, Y) = 0.21428616f0 (tracked)\n",
      "loss(X, Y) = 0.2123181f0 (tracked)\n",
      "loss(X, Y) = 0.2115053f0 (tracked)\n",
      "loss(X, Y) = 0.20794013f0 (tracked)\n",
      "loss(X, Y) = 0.39933112f0 (tracked)\n",
      "loss(X, Y) = 0.20636836f0 (tracked)\n",
      "loss(X, Y) = 0.20231497f0 (tracked)\n",
      "loss(X, Y) = 0.20672247f0 (tracked)\n",
      "loss(X, Y) = 0.19998012f0 (tracked)\n",
      "loss(X, Y) = 0.19742996f0 (tracked)\n",
      "loss(X, Y) = 0.21971834f0 (tracked)\n",
      "loss(X, Y) = 0.19435619f0 (tracked)\n",
      "loss(X, Y) = 0.192925f0 (tracked)\n",
      "loss(X, Y) = 4.9360414f0 (tracked)\n",
      "loss(X, Y) = 0.1913153f0 (tracked)\n",
      "loss(X, Y) = 0.20032138f0 (tracked)\n",
      "loss(X, Y) = 4.9648733f0 (tracked)\n",
      "loss(X, Y) = 0.18936577f0 (tracked)\n",
      "loss(X, Y) = 0.19588739f0 (tracked)\n",
      "loss(X, Y) = 0.20487647f0 (tracked)\n",
      "loss(X, Y) = 0.21865693f0 (tracked)\n",
      "loss(X, Y) = 0.1805851f0 (tracked)\n",
      "loss(X, Y) = 0.20491101f0 (tracked)\n",
      "loss(X, Y) = 0.17790945f0 (tracked)\n",
      "loss(X, Y) = 0.5096416f0 (tracked)\n",
      "loss(X, Y) = 0.22840549f0 (tracked)\n",
      "loss(X, Y) = 0.17444657f0 (tracked)\n",
      "loss(X, Y) = 0.32328385f0 (tracked)\n",
      "loss(X, Y) = 0.17254068f0 (tracked)\n",
      "loss(X, Y) = 0.17134258f0 (tracked)\n",
      "loss(X, Y) = 0.17098816f0 (tracked)\n",
      "loss(X, Y) = 0.17234026f0 (tracked)\n",
      "loss(X, Y) = 0.1690747f0 (tracked)\n",
      "loss(X, Y) = 0.2540921f0 (tracked)\n",
      "loss(X, Y) = 0.16722517f0 (tracked)\n",
      "loss(X, Y) = 0.16593865f0 (tracked)\n",
      "loss(X, Y) = 0.18751706f0 (tracked)\n",
      "loss(X, Y) = 0.16788416f0 (tracked)\n",
      "loss(X, Y) = 0.16355938f0 (tracked)\n",
      "loss(X, Y) = 0.16405992f0 (tracked)\n",
      "loss(X, Y) = 0.16229373f0 (tracked)\n",
      "loss(X, Y) = 0.3821636f0 (tracked)\n",
      "loss(X, Y) = 0.21305667f0 (tracked)\n",
      "loss(X, Y) = 0.16465561f0 (tracked)\n",
      "loss(X, Y) = 0.15873533f0 (tracked)\n",
      "loss(X, Y) = 0.1579233f0 (tracked)\n",
      "loss(X, Y) = 0.24332742f0 (tracked)\n",
      "loss(X, Y) = 2.3414118f0 (tracked)\n",
      "loss(X, Y) = 0.1563824f0 (tracked)\n",
      "loss(X, Y) = 0.16046694f0 (tracked)\n",
      "loss(X, Y) = 0.15471004f0 (tracked)\n",
      "loss(X, Y) = 0.15425228f0 (tracked)\n",
      "loss(X, Y) = 0.15298872f0 (tracked)\n",
      "loss(X, Y) = 0.15412001f0 (tracked)\n",
      "loss(X, Y) = 5.1314936f0 (tracked)\n",
      "loss(X, Y) = 0.16069351f0 (tracked)\n",
      "loss(X, Y) = 1.7518928f0 (tracked)\n",
      "loss(X, Y) = 0.18229038f0 (tracked)\n",
      "loss(X, Y) = 0.41636327f0 (tracked)\n",
      "loss(X, Y) = 0.15445971f0 (tracked)\n",
      "loss(X, Y) = 0.18612553f0 (tracked)\n",
      "loss(X, Y) = 0.1503278f0 (tracked)\n",
      "loss(X, Y) = 0.14675337f0 (tracked)\n",
      "loss(X, Y) = 0.17199335f0 (tracked)\n",
      "loss(X, Y) = 0.15129125f0 (tracked)\n",
      "loss(X, Y) = 2.5207903f0 (tracked)\n",
      "loss(X, Y) = 0.14630902f0 (tracked)\n",
      "loss(X, Y) = 0.15541804f0 (tracked)\n",
      "loss(X, Y) = 0.14358714f0 (tracked)\n",
      "loss(X, Y) = 0.14302756f0 (tracked)\n",
      "loss(X, Y) = 0.1587273f0 (tracked)\n",
      "loss(X, Y) = 0.1540456f0 (tracked)\n",
      "loss(X, Y) = 0.5155826f0 (tracked)\n",
      "loss(X, Y) = 0.14934275f0 (tracked)\n",
      "loss(X, Y) = 0.42256016f0 (tracked)\n",
      "loss(X, Y) = 0.73307884f0 (tracked)\n",
      "loss(X, Y) = 4.808823f0 (tracked)\n",
      "loss(X, Y) = 0.13837868f0 (tracked)\n",
      "loss(X, Y) = 0.13785374f0 (tracked)\n",
      "loss(X, Y) = 0.13983758f0 (tracked)\n",
      "loss(X, Y) = 0.13880752f0 (tracked)\n",
      "loss(X, Y) = 0.9498751f0 (tracked)\n",
      "loss(X, Y) = 0.14785206f0 (tracked)\n",
      "loss(X, Y) = 0.1359081f0 (tracked)\n",
      "loss(X, Y) = 0.13495153f0 (tracked)\n",
      "loss(X, Y) = 0.13988097f0 (tracked)\n",
      "loss(X, Y) = 0.13436706f0 (tracked)\n",
      "loss(X, Y) = 0.13374086f0 (tracked)\n",
      "loss(X, Y) = 0.13447903f0 (tracked)\n",
      "loss(X, Y) = 0.6063961f0 (tracked)\n",
      "loss(X, Y) = 0.13242938f0 (tracked)\n",
      "loss(X, Y) = 0.13213035f0 (tracked)\n",
      "loss(X, Y) = 0.13288923f0 (tracked)\n",
      "loss(X, Y) = 0.13130878f0 (tracked)\n",
      "loss(X, Y) = 1.323982f0 (tracked)\n",
      "loss(X, Y) = 0.13077147f0 (tracked)\n",
      "loss(X, Y) = 1.5776467f0 (tracked)\n",
      "loss(X, Y) = 0.12986016f0 (tracked)\n",
      "loss(X, Y) = 0.1292919f0 (tracked)\n",
      "loss(X, Y) = 0.1290254f0 (tracked)\n",
      "loss(X, Y) = 0.20792407f0 (tracked)\n",
      "loss(X, Y) = 0.12836379f0 (tracked)\n",
      "loss(X, Y) = 0.20973726f0 (tracked)\n",
      "loss(X, Y) = 0.12753907f0 (tracked)\n",
      "loss(X, Y) = 0.12731987f0 (tracked)\n",
      "loss(X, Y) = 0.19046542f0 (tracked)\n",
      "loss(X, Y) = 0.12650506f0 (tracked)\n",
      "loss(X, Y) = 0.21006055f0 (tracked)\n",
      "loss(X, Y) = 0.12906854f0 (tracked)\n",
      "loss(X, Y) = 0.12613837f0 (tracked)\n",
      "loss(X, Y) = 0.15402302f0 (tracked)\n",
      "loss(X, Y) = 0.2248302f0 (tracked)\n",
      "loss(X, Y) = 0.124877565f0 (tracked)\n",
      "loss(X, Y) = 0.124244764f0 (tracked)\n",
      "loss(X, Y) = 0.12680319f0 (tracked)\n",
      "loss(X, Y) = 0.4213003f0 (tracked)\n",
      "loss(X, Y) = 0.123521976f0 (tracked)\n",
      "loss(X, Y) = 0.18169725f0 (tracked)\n",
      "loss(X, Y) = 2.1496096f0 (tracked)\n",
      "loss(X, Y) = 0.14033175f0 (tracked)\n",
      "loss(X, Y) = 1.3514037f0 (tracked)\n",
      "loss(X, Y) = 0.1230697f0 (tracked)\n",
      "loss(X, Y) = 1.5185467f0 (tracked)\n",
      "loss(X, Y) = 0.12164712f0 (tracked)\n",
      "loss(X, Y) = 0.1209614f0 (tracked)\n",
      "loss(X, Y) = 0.12095016f0 (tracked)\n",
      "loss(X, Y) = 0.12072909f0 (tracked)\n",
      "loss(X, Y) = 0.30518767f0 (tracked)\n",
      "loss(X, Y) = 0.119962595f0 (tracked)\n",
      "loss(X, Y) = 0.119667746f0 (tracked)\n",
      "loss(X, Y) = 1.5924249f0 (tracked)\n",
      "loss(X, Y) = 0.12625659f0 (tracked)\n",
      "loss(X, Y) = 0.118965186f0 (tracked)\n",
      "loss(X, Y) = 0.94481796f0 (tracked)\n",
      "loss(X, Y) = 0.15650257f0 (tracked)\n",
      "loss(X, Y) = 0.118150406f0 (tracked)\n",
      "loss(X, Y) = 0.11791571f0 (tracked)\n",
      "loss(X, Y) = 0.36252823f0 (tracked)\n",
      "loss(X, Y) = 0.11759719f0 (tracked)\n",
      "loss(X, Y) = 0.12053392f0 (tracked)\n",
      "loss(X, Y) = 0.249976f0 (tracked)\n",
      "loss(X, Y) = 5.3655834f0 (tracked)\n",
      "loss(X, Y) = 0.11700033f0 (tracked)\n",
      "loss(X, Y) = 0.11765515f0 (tracked)\n",
      "loss(X, Y) = 0.11825923f0 (tracked)\n",
      "loss(X, Y) = 0.18813945f0 (tracked)\n",
      "loss(X, Y) = 0.14477928f0 (tracked)\n",
      "loss(X, Y) = 0.116475314f0 (tracked)\n",
      "loss(X, Y) = 0.115288645f0 (tracked)\n",
      "loss(X, Y) = 0.14996025f0 (tracked)\n",
      "loss(X, Y) = 0.124282055f0 (tracked)\n",
      "loss(X, Y) = 0.11451676f0 (tracked)\n",
      "loss(X, Y) = 0.11621071f0 (tracked)\n",
      "loss(X, Y) = 0.114137545f0 (tracked)\n",
      "loss(X, Y) = 0.11383888f0 (tracked)\n",
      "loss(X, Y) = 0.13438661f0 (tracked)\n",
      "loss(X, Y) = 0.11360791f0 (tracked)\n",
      "loss(X, Y) = 0.113579184f0 (tracked)\n",
      "loss(X, Y) = 0.11312379f0 (tracked)\n",
      "loss(X, Y) = 0.21590617f0 (tracked)\n",
      "loss(X, Y) = 0.11267935f0 (tracked)\n",
      "loss(X, Y) = 0.11258493f0 (tracked)\n",
      "loss(X, Y) = 0.1128824f0 (tracked)\n",
      "loss(X, Y) = 0.11479931f0 (tracked)\n",
      "loss(X, Y) = 0.11408341f0 (tracked)\n",
      "loss(X, Y) = 0.13061376f0 (tracked)\n",
      "loss(X, Y) = 0.11163035f0 (tracked)\n",
      "loss(X, Y) = 0.111597635f0 (tracked)\n",
      "loss(X, Y) = 0.11119049f0 (tracked)\n",
      "loss(X, Y) = 0.11151383f0 (tracked)\n",
      "loss(X, Y) = 0.110978186f0 (tracked)\n",
      "loss(X, Y) = 0.3554196f0 (tracked)\n",
      "loss(X, Y) = 0.15739663f0 (tracked)\n",
      "loss(X, Y) = 0.21287371f0 (tracked)\n",
      "loss(X, Y) = 0.12617028f0 (tracked)\n",
      "loss(X, Y) = 0.3215044f0 (tracked)\n",
      "loss(X, Y) = 0.11040663f0 (tracked)\n",
      "loss(X, Y) = 0.11030205f0 (tracked)\n",
      "loss(X, Y) = 0.1093567f0 (tracked)\n",
      "loss(X, Y) = 0.15062556f0 (tracked)\n",
      "loss(X, Y) = 0.1091813f0 (tracked)\n",
      "loss(X, Y) = 0.10907013f0 (tracked)\n",
      "loss(X, Y) = 0.18091078f0 (tracked)\n",
      "loss(X, Y) = 0.1229363f0 (tracked)\n",
      "loss(X, Y) = 3.4603024f0 (tracked)\n",
      "loss(X, Y) = 0.1091672f0 (tracked)\n",
      "loss(X, Y) = 6.6615243f0 (tracked)\n",
      "loss(X, Y) = 0.10809912f0 (tracked)\n",
      "loss(X, Y) = 4.3371296f0 (tracked)\n",
      "loss(X, Y) = 0.10774474f0 (tracked)\n",
      "loss(X, Y) = 1.189314f0 (tracked)\n",
      "loss(X, Y) = 0.107350245f0 (tracked)\n",
      "loss(X, Y) = 0.10716934f0 (tracked)\n"
     ]
    },
    {
     "name": "stdout",
     "output_type": "stream",
     "text": [
      "loss(X, Y) = 0.10722699f0 (tracked)\n",
      "loss(X, Y) = 0.1068271f0 (tracked)\n",
      "loss(X, Y) = 0.10689208f0 (tracked)\n",
      "loss(X, Y) = 0.1066724f0 (tracked)\n",
      "loss(X, Y) = 0.10649499f0 (tracked)\n",
      "loss(X, Y) = 0.10618649f0 (tracked)\n",
      "loss(X, Y) = 0.11394522f0 (tracked)\n",
      "loss(X, Y) = 0.16498232f0 (tracked)\n",
      "loss(X, Y) = 0.107630186f0 (tracked)\n",
      "loss(X, Y) = 0.10547525f0 (tracked)\n",
      "loss(X, Y) = 0.11211122f0 (tracked)\n",
      "loss(X, Y) = 4.3297095f0 (tracked)\n",
      "loss(X, Y) = 0.10541081f0 (tracked)\n",
      "loss(X, Y) = 2.4692013f0 (tracked)\n",
      "loss(X, Y) = 0.10490452f0 (tracked)\n",
      "loss(X, Y) = 0.13236803f0 (tracked)\n",
      "loss(X, Y) = 0.46703917f0 (tracked)\n",
      "loss(X, Y) = 0.1043326f0 (tracked)\n",
      "loss(X, Y) = 0.10427057f0 (tracked)\n",
      "loss(X, Y) = 0.10394691f0 (tracked)\n",
      "loss(X, Y) = 0.10415537f0 (tracked)\n",
      "loss(X, Y) = 0.103815965f0 (tracked)\n",
      "loss(X, Y) = 0.10360408f0 (tracked)\n",
      "loss(X, Y) = 0.10368049f0 (tracked)\n",
      "loss(X, Y) = 1.8914979f0 (tracked)\n",
      "loss(X, Y) = 0.10316689f0 (tracked)\n",
      "loss(X, Y) = 0.10352229f0 (tracked)\n",
      "loss(X, Y) = 0.103326395f0 (tracked)\n",
      "loss(X, Y) = 0.1560238f0 (tracked)\n",
      "loss(X, Y) = 0.10279877f0 (tracked)\n",
      "loss(X, Y) = 0.10293634f0 (tracked)\n",
      "loss(X, Y) = 0.6954188f0 (tracked)\n",
      "loss(X, Y) = 0.10236368f0 (tracked)\n",
      "loss(X, Y) = 0.92101014f0 (tracked)\n",
      "loss(X, Y) = 0.10200192f0 (tracked)\n",
      "loss(X, Y) = 0.101957016f0 (tracked)\n",
      "loss(X, Y) = 0.10196526f0 (tracked)\n",
      "loss(X, Y) = 0.120398864f0 (tracked)\n",
      "loss(X, Y) = 0.10145611f0 (tracked)\n",
      "loss(X, Y) = 0.101699926f0 (tracked)\n",
      "loss(X, Y) = 0.10205421f0 (tracked)\n",
      "loss(X, Y) = 0.101148285f0 (tracked)\n",
      "loss(X, Y) = 0.10099755f0 (tracked)\n",
      "loss(X, Y) = 0.4105398f0 (tracked)\n",
      "loss(X, Y) = 3.5666203f0 (tracked)\n",
      "loss(X, Y) = 0.10051995f0 (tracked)\n",
      "loss(X, Y) = 0.4342663f0 (tracked)\n",
      "loss(X, Y) = 0.10060513f0 (tracked)\n",
      "loss(X, Y) = 0.10041777f0 (tracked)\n",
      "loss(X, Y) = 0.10042385f0 (tracked)\n",
      "loss(X, Y) = 0.10065701f0 (tracked)\n",
      "loss(X, Y) = 0.10422717f0 (tracked)\n",
      "loss(X, Y) = 0.100759596f0 (tracked)\n",
      "loss(X, Y) = 0.11556316f0 (tracked)\n",
      "loss(X, Y) = 0.14580825f0 (tracked)\n",
      "loss(X, Y) = 2.4676297f0 (tracked)\n",
      "loss(X, Y) = 0.0993085f0 (tracked)\n",
      "loss(X, Y) = 0.09928319f0 (tracked)\n",
      "loss(X, Y) = 0.09912067f0 (tracked)\n",
      "loss(X, Y) = 0.0989739f0 (tracked)\n",
      "loss(X, Y) = 0.09943594f0 (tracked)\n",
      "loss(X, Y) = 0.38470802f0 (tracked)\n",
      "loss(X, Y) = 0.12435668f0 (tracked)\n",
      "loss(X, Y) = 0.09863314f0 (tracked)\n",
      "loss(X, Y) = 0.098413855f0 (tracked)\n",
      "loss(X, Y) = 0.09830209f0 (tracked)\n",
      "loss(X, Y) = 0.09844159f0 (tracked)\n",
      "loss(X, Y) = 0.25077608f0 (tracked)\n",
      "loss(X, Y) = 0.36588433f0 (tracked)\n",
      "loss(X, Y) = 0.6916038f0 (tracked)\n",
      "loss(X, Y) = 0.21898235f0 (tracked)\n",
      "loss(X, Y) = 0.1881246f0 (tracked)\n",
      "loss(X, Y) = 0.097480364f0 (tracked)\n",
      "loss(X, Y) = 0.09735997f0 (tracked)\n",
      "loss(X, Y) = 0.09721535f0 (tracked)\n",
      "loss(X, Y) = 0.09724116f0 (tracked)\n",
      "loss(X, Y) = 0.097883366f0 (tracked)\n",
      "loss(X, Y) = 0.11615269f0 (tracked)\n",
      "loss(X, Y) = 0.09679087f0 (tracked)\n",
      "loss(X, Y) = 0.09671762f0 (tracked)\n",
      "loss(X, Y) = 1.0524666f0 (tracked)\n",
      "loss(X, Y) = 0.7603846f0 (tracked)\n",
      "loss(X, Y) = 0.5931287f0 (tracked)\n",
      "loss(X, Y) = 0.104829006f0 (tracked)\n",
      "loss(X, Y) = 0.09625956f0 (tracked)\n",
      "loss(X, Y) = 0.09669077f0 (tracked)\n",
      "loss(X, Y) = 0.0959584f0 (tracked)\n",
      "loss(X, Y) = 0.110666916f0 (tracked)\n",
      "loss(X, Y) = 0.09588336f0 (tracked)\n",
      "loss(X, Y) = 0.18987763f0 (tracked)\n",
      "loss(X, Y) = 1.1798071f0 (tracked)\n",
      "loss(X, Y) = 0.09545362f0 (tracked)\n",
      "loss(X, Y) = 0.095445625f0 (tracked)\n",
      "loss(X, Y) = 0.0956532f0 (tracked)\n",
      "loss(X, Y) = 7.5151353f0 (tracked)\n",
      "loss(X, Y) = 0.09514541f0 (tracked)\n",
      "loss(X, Y) = 0.09529311f0 (tracked)\n",
      "loss(X, Y) = 0.09522698f0 (tracked)\n",
      "loss(X, Y) = 0.09504757f0 (tracked)\n",
      "loss(X, Y) = 0.0968259f0 (tracked)\n",
      "loss(X, Y) = 0.09459798f0 (tracked)\n",
      "loss(X, Y) = 0.0945057f0 (tracked)\n",
      "loss(X, Y) = 0.095569044f0 (tracked)\n",
      "loss(X, Y) = 0.094585635f0 (tracked)\n",
      "loss(X, Y) = 0.09494102f0 (tracked)\n",
      "loss(X, Y) = 0.094275236f0 (tracked)\n",
      "loss(X, Y) = 0.20167217f0 (tracked)\n",
      "loss(X, Y) = 0.093939796f0 (tracked)\n",
      "loss(X, Y) = 0.09449266f0 (tracked)\n",
      "loss(X, Y) = 0.10677406f0 (tracked)\n",
      "loss(X, Y) = 0.10792966f0 (tracked)\n",
      "loss(X, Y) = 0.12016692f0 (tracked)\n",
      "loss(X, Y) = 2.1962402f0 (tracked)\n",
      "loss(X, Y) = 0.09333751f0 (tracked)\n",
      "loss(X, Y) = 0.09321588f0 (tracked)\n",
      "loss(X, Y) = 0.17827107f0 (tracked)\n",
      "loss(X, Y) = 0.09305885f0 (tracked)\n",
      "loss(X, Y) = 0.09345965f0 (tracked)\n",
      "loss(X, Y) = 0.093083724f0 (tracked)\n",
      "loss(X, Y) = 0.0928003f0 (tracked)\n",
      "loss(X, Y) = 0.70998806f0 (tracked)\n",
      "loss(X, Y) = 0.09255092f0 (tracked)\n",
      "loss(X, Y) = 0.092642196f0 (tracked)\n",
      "loss(X, Y) = 0.09276287f0 (tracked)\n",
      "loss(X, Y) = 1.862945f0 (tracked)\n",
      "loss(X, Y) = 5.0719233f0 (tracked)\n",
      "loss(X, Y) = 0.092387795f0 (tracked)\n",
      "loss(X, Y) = 0.09762472f0 (tracked)\n",
      "loss(X, Y) = 0.7037676f0 (tracked)\n",
      "loss(X, Y) = 0.09180888f0 (tracked)\n",
      "loss(X, Y) = 0.091861494f0 (tracked)\n",
      "loss(X, Y) = 0.23473448f0 (tracked)\n",
      "loss(X, Y) = 1.4963987f0 (tracked)\n",
      "loss(X, Y) = 0.09156362f0 (tracked)\n",
      "loss(X, Y) = 0.09192681f0 (tracked)\n",
      "loss(X, Y) = 2.5708385f0 (tracked)\n",
      "loss(X, Y) = 0.091296285f0 (tracked)\n",
      "loss(X, Y) = 0.09148008f0 (tracked)\n",
      "loss(X, Y) = 0.09337321f0 (tracked)\n",
      "loss(X, Y) = 0.15765671f0 (tracked)\n",
      "loss(X, Y) = 0.091728665f0 (tracked)\n",
      "loss(X, Y) = 0.0907223f0 (tracked)\n",
      "loss(X, Y) = 0.09080002f0 (tracked)\n",
      "loss(X, Y) = 0.09072577f0 (tracked)\n",
      "loss(X, Y) = 0.090629764f0 (tracked)\n",
      "loss(X, Y) = 0.09051887f0 (tracked)\n",
      "loss(X, Y) = 0.09327229f0 (tracked)\n",
      "loss(X, Y) = 1.4466372f0 (tracked)\n",
      "loss(X, Y) = 0.09015151f0 (tracked)\n",
      "loss(X, Y) = 0.15292348f0 (tracked)\n",
      "loss(X, Y) = 0.09006682f0 (tracked)\n",
      "loss(X, Y) = 0.090573676f0 (tracked)\n",
      "loss(X, Y) = 0.1073859f0 (tracked)\n",
      "loss(X, Y) = 0.2832639f0 (tracked)\n",
      "loss(X, Y) = 0.21995176f0 (tracked)\n",
      "loss(X, Y) = 0.0902177f0 (tracked)\n",
      "loss(X, Y) = 0.08963221f0 (tracked)\n",
      "loss(X, Y) = 0.089648575f0 (tracked)\n",
      "loss(X, Y) = 0.3811333f0 (tracked)\n",
      "loss(X, Y) = 0.08934442f0 (tracked)\n",
      "loss(X, Y) = 0.13177001f0 (tracked)\n",
      "loss(X, Y) = 0.08955193f0 (tracked)\n",
      "loss(X, Y) = 0.10734403f0 (tracked)\n",
      "loss(X, Y) = 6.07955f0 (tracked)\n",
      "loss(X, Y) = 0.08888747f0 (tracked)\n",
      "loss(X, Y) = 0.08883196f0 (tracked)\n",
      "loss(X, Y) = 0.088786215f0 (tracked)\n",
      "loss(X, Y) = 0.08875545f0 (tracked)\n",
      "loss(X, Y) = 0.08877627f0 (tracked)\n",
      "loss(X, Y) = 0.08945814f0 (tracked)\n",
      "loss(X, Y) = 0.08850666f0 (tracked)\n",
      "loss(X, Y) = 0.08827371f0 (tracked)\n",
      "loss(X, Y) = 0.098723106f0 (tracked)\n",
      "loss(X, Y) = 0.08859353f0 (tracked)\n",
      "loss(X, Y) = 0.08821133f0 (tracked)\n",
      "loss(X, Y) = 0.0880613f0 (tracked)\n",
      "loss(X, Y) = 0.0890674f0 (tracked)\n",
      "loss(X, Y) = 0.088138595f0 (tracked)\n",
      "loss(X, Y) = 0.08800441f0 (tracked)\n",
      "loss(X, Y) = 0.6882376f0 (tracked)\n",
      "loss(X, Y) = 0.0881692f0 (tracked)\n",
      "loss(X, Y) = 0.08780471f0 (tracked)\n",
      "loss(X, Y) = 0.088248655f0 (tracked)\n",
      "loss(X, Y) = 0.08776524f0 (tracked)\n",
      "loss(X, Y) = 0.08737905f0 (tracked)\n",
      "loss(X, Y) = 0.089315385f0 (tracked)\n",
      "loss(X, Y) = 0.087317765f0 (tracked)\n",
      "loss(X, Y) = 0.3569281f0 (tracked)\n",
      "loss(X, Y) = 0.31197694f0 (tracked)\n",
      "loss(X, Y) = 0.08806304f0 (tracked)\n",
      "loss(X, Y) = 0.08725853f0 (tracked)\n",
      "loss(X, Y) = 0.08696258f0 (tracked)\n",
      "loss(X, Y) = 4.249501f0 (tracked)\n",
      "loss(X, Y) = 0.087059036f0 (tracked)\n",
      "loss(X, Y) = 0.08677488f0 (tracked)\n",
      "loss(X, Y) = 0.08757666f0 (tracked)\n",
      "loss(X, Y) = 0.086559795f0 (tracked)\n",
      "loss(X, Y) = 0.087016396f0 (tracked)\n",
      "loss(X, Y) = 0.20271866f0 (tracked)\n",
      "loss(X, Y) = 0.08688398f0 (tracked)\n",
      "loss(X, Y) = 0.086719066f0 (tracked)\n",
      "loss(X, Y) = 0.092070796f0 (tracked)\n",
      "loss(X, Y) = 0.09454988f0 (tracked)\n",
      "loss(X, Y) = 0.086471684f0 (tracked)\n",
      "loss(X, Y) = 0.086253464f0 (tracked)\n",
      "loss(X, Y) = 0.08595277f0 (tracked)\n",
      "loss(X, Y) = 0.08582316f0 (tracked)\n",
      "loss(X, Y) = 0.08981455f0 (tracked)\n",
      "loss(X, Y) = 0.091636166f0 (tracked)\n",
      "loss(X, Y) = 0.085750334f0 (tracked)\n",
      "loss(X, Y) = 0.08553618f0 (tracked)\n",
      "loss(X, Y) = 0.13388698f0 (tracked)\n",
      "loss(X, Y) = 0.09118316f0 (tracked)\n",
      "loss(X, Y) = 0.08579033f0 (tracked)\n",
      "loss(X, Y) = 0.08541058f0 (tracked)\n",
      "loss(X, Y) = 0.085180916f0 (tracked)\n",
      "loss(X, Y) = 0.08684176f0 (tracked)\n",
      "loss(X, Y) = 0.08520478f0 (tracked)\n",
      "loss(X, Y) = 5.178926f0 (tracked)\n",
      "loss(X, Y) = 0.08505885f0 (tracked)\n",
      "loss(X, Y) = 1.6886072f0 (tracked)\n",
      "loss(X, Y) = 0.08554188f0 (tracked)\n",
      "loss(X, Y) = 0.085045375f0 (tracked)\n",
      "loss(X, Y) = 0.08470435f0 (tracked)\n",
      "loss(X, Y) = 0.08785642f0 (tracked)\n",
      "loss(X, Y) = 0.08449297f0 (tracked)\n",
      "loss(X, Y) = 0.085219055f0 (tracked)\n",
      "loss(X, Y) = 0.08482529f0 (tracked)\n"
     ]
    },
    {
     "name": "stdout",
     "output_type": "stream",
     "text": [
      "loss(X, Y) = 0.08467019f0 (tracked)\n",
      "loss(X, Y) = 0.084280655f0 (tracked)\n",
      "loss(X, Y) = 0.08469846f0 (tracked)\n",
      "loss(X, Y) = 0.0842105f0 (tracked)\n",
      "loss(X, Y) = 0.7705177f0 (tracked)\n",
      "loss(X, Y) = 0.08430539f0 (tracked)\n",
      "loss(X, Y) = 0.6053326f0 (tracked)\n",
      "loss(X, Y) = 0.08399494f0 (tracked)\n",
      "loss(X, Y) = 0.085031025f0 (tracked)\n",
      "loss(X, Y) = 0.084154576f0 (tracked)\n",
      "loss(X, Y) = 0.08381401f0 (tracked)\n",
      "loss(X, Y) = 0.08429761f0 (tracked)\n",
      "loss(X, Y) = 0.08361441f0 (tracked)\n",
      "loss(X, Y) = 1.0186903f0 (tracked)\n",
      "loss(X, Y) = 0.083810784f0 (tracked)\n",
      "loss(X, Y) = 0.083505504f0 (tracked)\n",
      "loss(X, Y) = 0.14229885f0 (tracked)\n",
      "loss(X, Y) = 0.084264934f0 (tracked)\n",
      "loss(X, Y) = 0.0833651f0 (tracked)\n",
      "loss(X, Y) = 0.25081122f0 (tracked)\n",
      "loss(X, Y) = 0.08359258f0 (tracked)\n",
      "loss(X, Y) = 0.08323401f0 (tracked)\n",
      "loss(X, Y) = 0.45729107f0 (tracked)\n",
      "loss(X, Y) = 0.08497525f0 (tracked)\n",
      "loss(X, Y) = 0.08358576f0 (tracked)\n",
      "loss(X, Y) = 0.0832993f0 (tracked)\n",
      "loss(X, Y) = 0.08298234f0 (tracked)\n",
      "loss(X, Y) = 0.431887f0 (tracked)\n",
      "loss(X, Y) = 0.084752135f0 (tracked)\n",
      "loss(X, Y) = 0.08300486f0 (tracked)\n",
      "loss(X, Y) = 0.5244669f0 (tracked)\n",
      "loss(X, Y) = 0.083236605f0 (tracked)\n",
      "loss(X, Y) = 0.1279112f0 (tracked)\n",
      "loss(X, Y) = 0.083151065f0 (tracked)\n",
      "loss(X, Y) = 0.08273608f0 (tracked)\n",
      "loss(X, Y) = 0.09270039f0 (tracked)\n",
      "loss(X, Y) = 0.08279271f0 (tracked)\n",
      "loss(X, Y) = 2.9928946f0 (tracked)\n",
      "loss(X, Y) = 0.08319711f0 (tracked)\n",
      "loss(X, Y) = 0.08261692f0 (tracked)\n",
      "loss(X, Y) = 0.122055724f0 (tracked)\n",
      "loss(X, Y) = 0.08261239f0 (tracked)\n",
      "loss(X, Y) = 0.36030325f0 (tracked)\n",
      "loss(X, Y) = 0.08255685f0 (tracked)\n",
      "loss(X, Y) = 1.7743211f0 (tracked)\n",
      "loss(X, Y) = 0.095181175f0 (tracked)\n",
      "loss(X, Y) = 0.08251529f0 (tracked)\n",
      "loss(X, Y) = 0.64082074f0 (tracked)\n",
      "loss(X, Y) = 0.08322125f0 (tracked)\n",
      "loss(X, Y) = 0.08231518f0 (tracked)\n",
      "loss(X, Y) = 1.1439837f0 (tracked)\n",
      "loss(X, Y) = 0.0824132f0 (tracked)\n",
      "loss(X, Y) = 0.082089804f0 (tracked)\n",
      "loss(X, Y) = 0.08587377f0 (tracked)\n",
      "loss(X, Y) = 0.08215099f0 (tracked)\n",
      "loss(X, Y) = 0.08202397f0 (tracked)\n",
      "loss(X, Y) = 0.08201726f0 (tracked)\n",
      "loss(X, Y) = 0.12775594f0 (tracked)\n",
      "loss(X, Y) = 0.08225198f0 (tracked)\n",
      "loss(X, Y) = 0.08211998f0 (tracked)\n",
      "loss(X, Y) = 0.103538476f0 (tracked)\n",
      "loss(X, Y) = 0.08214314f0 (tracked)\n",
      "loss(X, Y) = 0.081984386f0 (tracked)\n",
      "loss(X, Y) = 0.08203552f0 (tracked)\n",
      "loss(X, Y) = 0.08211805f0 (tracked)\n",
      "loss(X, Y) = 0.08230893f0 (tracked)\n",
      "loss(X, Y) = 0.08521536f0 (tracked)\n",
      "loss(X, Y) = 0.09428075f0 (tracked)\n",
      "loss(X, Y) = 0.3427284f0 (tracked)\n",
      "loss(X, Y) = 0.17859049f0 (tracked)\n",
      "loss(X, Y) = 0.13212296f0 (tracked)\n",
      "loss(X, Y) = 0.0905321f0 (tracked)\n",
      "loss(X, Y) = 0.08367144f0 (tracked)\n",
      "loss(X, Y) = 0.088070266f0 (tracked)\n",
      "loss(X, Y) = 0.081982955f0 (tracked)\n",
      "loss(X, Y) = 0.08165343f0 (tracked)\n",
      "loss(X, Y) = 0.08159413f0 (tracked)\n",
      "loss(X, Y) = 0.081534766f0 (tracked)\n",
      "loss(X, Y) = 0.0814999f0 (tracked)\n",
      "loss(X, Y) = 0.08159517f0 (tracked)\n",
      "loss(X, Y) = 0.081628025f0 (tracked)\n",
      "loss(X, Y) = 0.081703596f0 (tracked)\n",
      "loss(X, Y) = 0.08176019f0 (tracked)\n",
      "loss(X, Y) = 0.082915194f0 (tracked)\n",
      "loss(X, Y) = 0.08177062f0 (tracked)\n",
      "loss(X, Y) = 0.0814015f0 (tracked)\n",
      "loss(X, Y) = 0.081350684f0 (tracked)\n",
      "loss(X, Y) = 0.081200786f0 (tracked)\n",
      "loss(X, Y) = 0.08107621f0 (tracked)\n",
      "loss(X, Y) = 2.578905f0 (tracked)\n",
      "loss(X, Y) = 0.3485166f0 (tracked)\n",
      "loss(X, Y) = 0.09383937f0 (tracked)\n",
      "loss(X, Y) = 0.08192567f0 (tracked)\n",
      "loss(X, Y) = 0.08136499f0 (tracked)\n",
      "loss(X, Y) = 0.081125766f0 (tracked)\n",
      "loss(X, Y) = 0.08099789f0 (tracked)\n",
      "loss(X, Y) = 0.0808888f0 (tracked)\n",
      "loss(X, Y) = 0.08834989f0 (tracked)\n",
      "loss(X, Y) = 0.12735751f0 (tracked)\n",
      "loss(X, Y) = 0.19913799f0 (tracked)\n",
      "loss(X, Y) = 0.080966495f0 (tracked)\n",
      "loss(X, Y) = 0.08102601f0 (tracked)\n",
      "loss(X, Y) = 0.080961294f0 (tracked)\n"
     ]
    }
   ],
   "source": [
    "Flux.train!(loss, Flux.params(m), data, opt, cb = throttle(evalcb, 10))"
   ]
  },
  {
   "cell_type": "code",
   "execution_count": 21,
   "metadata": {},
   "outputs": [
    {
     "data": {
      "text/plain": [
       "Chain(Dense(3, 32, NNlib.σ), Dense(32, 72, NNlib.σ), Dense(72, 4))"
      ]
     },
     "execution_count": 21,
     "metadata": {},
     "output_type": "execute_result"
    }
   ],
   "source": [
    "m = m |> gpu"
   ]
  },
  {
   "cell_type": "code",
   "execution_count": 20,
   "metadata": {},
   "outputs": [],
   "source": [
    "@load \"model3_4.bson\" m"
   ]
  },
  {
   "cell_type": "code",
   "execution_count": 230,
   "metadata": {},
   "outputs": [],
   "source": [
    "#@save \"model3_4.bson\" m"
   ]
  },
  {
   "cell_type": "code",
   "execution_count": 150,
   "metadata": {},
   "outputs": [
    {
     "data": {
      "text/plain": [
       "3-element Array{Float64,1}:\n",
       "  1.275491276680905 \n",
       " -7.19724811765138  \n",
       "  2.4182635555217975"
      ]
     },
     "execution_count": 150,
     "metadata": {},
     "output_type": "execute_result"
    }
   ],
   "source": [
    "  pL = 1   #  0.01 -> 100\n",
    "    ρR = 10 .^ (rand() .*3 .- 2)   # 0.01 -> 10\n",
    "    uR = rand() .* 23 .- 20        # -20 -> 3\n",
    "    pR = 10 .^ (rand() .*4 .- 2) \n",
    "\n",
    "# pL = 10 .^ (rand() .*5 .- 2)   #  0.01 -> 1000\n",
    "# ρR = 10 .^ (rand() .*4 .- 2)   # 0.01 -> 10\n",
    "# uR = rand() .* 22 .- 20        # -20 -> 3\n",
    "# pR = 10 .^ (rand() .*5 .- 2) \n",
    "\n",
    "A  = [ρR; uR; pR]"
   ]
  },
  {
   "cell_type": "code",
   "execution_count": 151,
   "metadata": {},
   "outputs": [
    {
     "name": "stdout",
     "output_type": "stream",
     "text": [
      "  2.399 μs (68 allocations: 3.02 KiB)\n"
     ]
    },
    {
     "data": {
      "text/plain": [
       "Tracked 4-element Array{Float32,1}:\n",
       "  4.720478f0 \n",
       "  4.6437087f0\n",
       " -3.9273477f0\n",
       " 20.558842f0 "
      ]
     },
     "execution_count": 151,
     "metadata": {},
     "output_type": "execute_result"
    }
   ],
   "source": [
    "using BenchmarkTools\n",
    "@btime m(A)"
   ]
  },
  {
   "cell_type": "code",
   "execution_count": 220,
   "metadata": {},
   "outputs": [
    {
     "data": {
      "text/plain": [
       "Tracked 4-element Array{Float32,1}:\n",
       "  4.724888f0 \n",
       "  4.686824f0 \n",
       " -3.9744406f0\n",
       " 20.760496f0 "
      ]
     },
     "execution_count": 220,
     "metadata": {},
     "output_type": "execute_result"
    }
   ],
   "source": [
    " m(A)"
   ]
  },
  {
   "cell_type": "code",
   "execution_count": 152,
   "metadata": {},
   "outputs": [
    {
     "name": "stdout",
     "output_type": "stream",
     "text": [
      "  2.845 μs (193 allocations: 3.02 KiB)\n"
     ]
    },
    {
     "data": {
      "text/plain": [
       "(W(4.699530121973835, -3.9592982711879317, 20.913349237371392), W(4.605300537057218, -3.9592982711879317, 20.913349237371392))"
      ]
     },
     "execution_count": 152,
     "metadata": {},
     "output_type": "execute_result"
    }
   ],
   "source": [
    "Wₗ = W(1.0, 0.0, 1.0)\n",
    "Wᵣ = W(ρR,uR,pR)\n",
    "γ = 1.4\n",
    "@btime WLStar, WRStar = RiemannSolver(Wₗ,Wᵣ,γ)\n",
    "\n",
    "\n",
    "# 5.99\n",
    "# 67.16\n",
    "# -9.92\n",
    "# 118.33"
   ]
  },
  {
   "cell_type": "code",
   "execution_count": 282,
   "metadata": {},
   "outputs": [
    {
     "data": {
      "text/plain": [
       "-0.16666666666666669"
      ]
     },
     "execution_count": 282,
     "metadata": {},
     "output_type": "execute_result"
    }
   ],
   "source": [
    "4.7342587f0\n",
    "  4.5680723f0\n",
    " -3.9600163f0\n",
    " 20.905327f0 "
   ]
  },
  {
   "cell_type": "markdown",
   "metadata": {},
   "source": [
    "#  Error Test"
   ]
  },
  {
   "cell_type": "code",
   "execution_count": 552,
   "metadata": {},
   "outputs": [],
   "source": [
    "X_test = zeros(Float32, (4,1000))\n",
    "Y_test = zeros(Float32, (4,1000))\n",
    "for i in 1:1000    \n",
    "    pL = 10 .^ (rand() .*5 .- 2)   #  0.01 -> 1000\n",
    "    ρR = 10 .^ (rand() .*4 .- 2)   # 0.01 -> 10\n",
    "    uR = rand() .* 22 .- 20        # -20 -> 3\n",
    "    pR = 10 .^ (rand() .*5 .- 2)   \n",
    "    X_test[1:4,i ] = [pL,ρR,uR,pR]\n",
    "end"
   ]
  },
  {
   "cell_type": "code",
   "execution_count": 553,
   "metadata": {},
   "outputs": [],
   "source": [
    "#function \n",
    "Y_test = zeros(Float32, (4,1000))\n",
    "γ = 1.4\n",
    "Wₗ = W(1.0,1.0,1.0)\n",
    "Wᵣ = W(1.0,1.0,1.0)\n",
    "for i = 1:1000\n",
    "#i = 1\n",
    "    Wₗ = W(1.0,0.0,X[1,i])\n",
    "    Wᵣ = W(X[2,i],X[3,i],X[4,i])\n",
    "    WₗStar,WᵣStar = RiemannSolver(Wₗ,Wᵣ,γ)\n",
    "    Y_test[1,i] = WₗStar.ρ\n",
    "    Y_test[2,i] = WᵣStar.ρ\n",
    "    Y_test[3,i] =WₗStar.u\n",
    "    Y_test[4,i] =WₗStar.p\n",
    "end"
   ]
  },
  {
   "cell_type": "code",
   "execution_count": null,
   "metadata": {},
   "outputs": [],
   "source": []
  }
 ],
 "metadata": {
  "kernelspec": {
   "display_name": "Julia 1.1.1",
   "language": "julia",
   "name": "julia-1.1"
  },
  "language_info": {
   "file_extension": ".jl",
   "mimetype": "application/julia",
   "name": "julia",
   "version": "1.1.1"
  }
 },
 "nbformat": 4,
 "nbformat_minor": 2
}
